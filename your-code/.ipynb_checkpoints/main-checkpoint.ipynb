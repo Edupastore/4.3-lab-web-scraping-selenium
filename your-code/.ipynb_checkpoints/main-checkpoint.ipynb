{
 "cells": [
  {
   "cell_type": "markdown",
   "metadata": {},
   "source": [
    "# Web Scraping Lab\n",
    "\n",
    "You will find in this notebook some scrapy exercises to practise your scraping skills.\n",
    "\n",
    "**Tips:**\n",
    "\n",
    "- Check the response status code for each request to ensure you have obtained the intended contennt.\n",
    "- Print the response text in each request to understand the kind of info you are getting and its format.\n",
    "- Check for patterns in the response text to extract the data/info requested in each question.\n",
    "- Visit each url and take a look at its source through Chrome DevTools. You'll need to identify the html tags, special class names etc. used for the html content you are expected to extract."
   ]
  },
  {
   "cell_type": "markdown",
   "metadata": {},
   "source": [
    "- [Selenium Doc](https://www.selenium.dev/documentation/)\n",
    "- [Requests library](http://docs.python-requests.org/en/master/#the-user-guide) documentation \n",
    "- [Urllib](https://docs.python.org/3/library/urllib.html#module-urllib)\n",
    "- [re lib](https://docs.python.org/3/library/re.html)\n",
    "- [lxml lib](https://lxml.de/)\n",
    "- [Scrapy](https://scrapy.org/)\n",
    "- [List of HTTP status codes](https://en.wikipedia.org/wiki/List_of_HTTP_status_codes)\n",
    "- [HTML basics](http://www.simplehtmlguide.com/cheatsheet.php)\n",
    "- [CSS basics](https://www.cssbasics.com/#page_start)"
   ]
  },
  {
   "cell_type": "markdown",
   "metadata": {},
   "source": [
    "#### Below are the libraries and modules you may need. `Selenium` and `pandas` are imported for you."
   ]
  },
  {
   "cell_type": "code",
   "execution_count": 1,
   "metadata": {},
   "outputs": [
    {
     "name": "stdout",
     "output_type": "stream",
     "text": [
      "Collecting package metadata (current_repodata.json): ...working... done\n",
      "Solving environment: ...working... done\n",
      "\n",
      "# All requested packages already installed.\n",
      "\n",
      "\n",
      "Note: you may need to restart the kernel to use updated packages.\n"
     ]
    }
   ],
   "source": [
    "conda install -c conda-forge selenium"
   ]
  },
  {
   "cell_type": "code",
   "execution_count": 2,
   "metadata": {},
   "outputs": [],
   "source": [
    "import pandas as pd\n",
    "from selenium.webdriver.chrome.options import Options\n",
    "from webdriver_manager.chrome import ChromeDriverManager"
   ]
  },
  {
   "cell_type": "code",
   "execution_count": 3,
   "metadata": {},
   "outputs": [],
   "source": [
    "import requests as req\n",
    "from bs4 import BeautifulSoup as bs\n",
    "import pandas as pd\n",
    "from selenium import webdriver"
   ]
  },
  {
   "cell_type": "code",
   "execution_count": 4,
   "metadata": {},
   "outputs": [],
   "source": [
    "PATH = ChromeDriverManager().install()"
   ]
  },
  {
   "cell_type": "code",
   "execution_count": 5,
   "metadata": {},
   "outputs": [
    {
     "name": "stderr",
     "output_type": "stream",
     "text": [
      "C:\\Users\\Edward46\\AppData\\Local\\Temp\\ipykernel_9516\\2783146937.py:1: DeprecationWarning: executable_path has been deprecated, please pass in a Service object\n",
      "  driver=webdriver.Chrome(PATH)       # abre una venta una de chrome\n"
     ]
    }
   ],
   "source": [
    "driver=webdriver.Chrome(PATH)       # abre una venta una de chrome\n",
    "driver.get('https://www.google.es')"
   ]
  },
  {
   "cell_type": "code",
   "execution_count": 6,
   "metadata": {},
   "outputs": [],
   "source": [
    "from selenium.webdriver.common.by import By # By es para buscar por tag, clase, id...\n",
    "import time\n",
    "import warnings\n",
    "warnings.filterwarnings('ignore')"
   ]
  },
  {
   "cell_type": "markdown",
   "metadata": {},
   "source": [
    "#### Enable the options you may need. In the next cell you have an example of them but you can choose to use them or not."
   ]
  },
  {
   "cell_type": "code",
   "execution_count": 7,
   "metadata": {},
   "outputs": [],
   "source": [
    "#driver configuration\n",
    "opciones=Options()\n",
    "\n",
    "opciones.add_experimental_option('excludeSwitches', ['enable-automation'])\n",
    "opciones.add_experimental_option('useAutomationExtension', False)\n",
    "opciones.headless=False    # si True, no aperece la ventana (headless=no visible)\n",
    "opciones.add_argument('--start-maximized')         # comienza maximizado\n",
    "#opciones.add_argument('user-data-dir=selenium')    # mantiene las cookies\n",
    "#opciones.add_extension('driver_folder/adblock.crx')       # adblocker\n",
    "opciones.add_argument('--incognito')"
   ]
  },
  {
   "cell_type": "code",
   "execution_count": 8,
   "metadata": {},
   "outputs": [],
   "source": [
    "#driver = \"./chromedriver.exe\" #remember substitute this for your driver path\n",
    "# driver = webdriver.Chrome(PATH)"
   ]
  },
  {
   "cell_type": "markdown",
   "metadata": {},
   "source": [
    "#### Download, parse, and print the content from the Trending Developers page from GitHub:"
   ]
  },
  {
   "cell_type": "code",
   "execution_count": 9,
   "metadata": {},
   "outputs": [],
   "source": [
    "# This is the url you will scrape in this exercise\n",
    "url = 'https://github.com/trending/developers'"
   ]
  },
  {
   "cell_type": "code",
   "execution_count": 10,
   "metadata": {},
   "outputs": [
    {
     "data": {
      "text/plain": [
       "'Ariel Mashraki'"
      ]
     },
     "execution_count": 10,
     "metadata": {},
     "output_type": "execute_result"
    }
   ],
   "source": [
    "#your code\n",
    "driver=webdriver.Chrome(PATH)       # abre una venta una de chrome\n",
    "\n",
    "driver.get('https://github.com/trending/developers')\n",
    "\n",
    "time.sleep(5)\n",
    "\n",
    "driver.find_element(By.CLASS_NAME, 'h3.lh-condensed').text\n",
    "\n"
   ]
  },
  {
   "cell_type": "code",
   "execution_count": 11,
   "metadata": {},
   "outputs": [],
   "source": [
    "elementos = driver.find_elements(By.CLASS_NAME, 'h3.lh-condensed')\n"
   ]
  },
  {
   "cell_type": "code",
   "execution_count": 12,
   "metadata": {},
   "outputs": [
    {
     "data": {
      "text/plain": [
       "['Ariel Mashraki',\n",
       " 'Henrik Rydgård',\n",
       " 'jxxghp',\n",
       " 'Shrikant Sharat Kandula',\n",
       " 'Azure SDK Bot',\n",
       " 'Casey Rodarmor',\n",
       " 'Florian Roth',\n",
       " 'Brad Fitzpatrick',\n",
       " 'Emil Ernerfeldt',\n",
       " 'atomiks',\n",
       " 'Jeffrey Su',\n",
       " 'Yair Morgenstern',\n",
       " 'Manuel Kaufmann',\n",
       " 'Paul Razvan Berg',\n",
       " 'Matt Karl',\n",
       " 'nodiscc',\n",
       " 'Matthew Leibowitz',\n",
       " 'Maarten Grootendorst',\n",
       " 'Ben McCann',\n",
       " 'Costa Huang',\n",
       " 'François Chollet',\n",
       " 'Ross Wightman',\n",
       " 'Robert Martin',\n",
       " 'Huon Wilson',\n",
       " 'Zhian N. Kamvar']"
      ]
     },
     "execution_count": 12,
     "metadata": {},
     "output_type": "execute_result"
    }
   ],
   "source": [
    "[e.text for e in elementos]"
   ]
  },
  {
   "cell_type": "code",
   "execution_count": 13,
   "metadata": {},
   "outputs": [],
   "source": [
    "#your code"
   ]
  },
  {
   "cell_type": "markdown",
   "metadata": {},
   "source": [
    "#### Display the names of the trending developers retrieved in the previous step.\n",
    "\n",
    "Your output should be a Python list of developer names. Each name should not contain any html tag.\n",
    "\n",
    "**Instructions:**\n",
    "\n",
    "1. Find out the html tag and class names used for the developer names.\n",
    "\n",
    "1. Use string manipulation techniques to replace whitespaces and linebreaks (i.e. `\\n`) in the *text* of each html element. Use a list to store the clean names.\n",
    "\n",
    "1. Print the list of names.\n",
    "\n",
    "Your output should look like below:\n",
    "\n",
    "```\n",
    "['trimstray (@trimstray)',\n",
    " 'joewalnes (JoeWalnes)',\n",
    " 'charlax (Charles-AxelDein)',\n",
    " 'ForrestKnight (ForrestKnight)',\n",
    " 'revery-ui (revery-ui)',\n",
    " 'alibaba (Alibaba)',\n",
    " 'Microsoft (Microsoft)',\n",
    " 'github (GitHub)',\n",
    " 'facebook (Facebook)',\n",
    " 'boazsegev (Bo)',\n",
    " 'google (Google)',\n",
    " 'cloudfetch',\n",
    " 'sindresorhus (SindreSorhus)',\n",
    " 'tensorflow',\n",
    " 'apache (TheApacheSoftwareFoundation)',\n",
    " 'DevonCrawford (DevonCrawford)',\n",
    " 'ARMmbed (ArmMbed)',\n",
    " 'vuejs (vuejs)',\n",
    " 'fastai (fast.ai)',\n",
    " 'QiShaoXuan (Qi)',\n",
    " 'joelparkerhenderson (JoelParkerHenderson)',\n",
    " 'torvalds (LinusTorvalds)',\n",
    " 'CyC2018',\n",
    " 'komeiji-satori (神楽坂覚々)',\n",
    " 'script-8']\n",
    " ```"
   ]
  },
  {
   "cell_type": "markdown",
   "metadata": {},
   "source": [
    "#### Display the trending Python repositories in GitHub\n",
    "\n",
    "The steps to solve this problem is similar to the previous one except that you need to find out the repository names instead of developer names."
   ]
  },
  {
   "cell_type": "code",
   "execution_count": 14,
   "metadata": {},
   "outputs": [],
   "source": [
    "# This is the url you will scrape in this exercise\n",
    "url = 'https://github.com/trending/python?since=daily'\n",
    "driver=webdriver.Chrome(PATH)"
   ]
  },
  {
   "cell_type": "code",
   "execution_count": 15,
   "metadata": {},
   "outputs": [],
   "source": [
    "driver.get(url)"
   ]
  },
  {
   "cell_type": "code",
   "execution_count": 16,
   "metadata": {},
   "outputs": [],
   "source": [
    "#your code\n",
    "elementos = driver.find_elements(By.CLASS_NAME, 'h3.lh-condensed')"
   ]
  },
  {
   "cell_type": "code",
   "execution_count": 17,
   "metadata": {},
   "outputs": [
    {
     "data": {
      "text/plain": [
       "['acikkaynak / deprem-yardim-backend',\n",
       " 'TheAlgorithms / Python',\n",
       " 'Zero6992 / chatGPT-discord-bot',\n",
       " 'zhayujie / chatgpt-on-wechat',\n",
       " 'TEXTurePaper / TEXTurePaper',\n",
       " 'acheong08 / ChatGPT',\n",
       " 'LAION-AI / Open-Assistant',\n",
       " 'AIGCT / EASYChatGPT',\n",
       " 'BlinkDL / ChatRWKV',\n",
       " 'ddPn08 / Lsmith',\n",
       " 'd2l-ai / d2l-zh',\n",
       " 'chidiwilliams / buzz',\n",
       " 'arc53 / DocsGPT',\n",
       " 'prowler-cloud / prowler',\n",
       " 'openai / openai-python',\n",
       " 'hwchase17 / langchain',\n",
       " 'karfly / chatgpt_telegram_bot',\n",
       " 'biancangming / wtv',\n",
       " 'LlmKira / Openaibot',\n",
       " 'BlinkDL / RWKV-LM',\n",
       " 'wagtail / wagtail',\n",
       " 'PaddlePaddle / ERNIE',\n",
       " 'MrMimic / data-scientist-roadmap',\n",
       " 'PaddlePaddle / PaddleSpeech',\n",
       " 'bellingcat / octosuite']"
      ]
     },
     "execution_count": 17,
     "metadata": {},
     "output_type": "execute_result"
    }
   ],
   "source": [
    "[e.text for e in elementos]"
   ]
  },
  {
   "cell_type": "markdown",
   "metadata": {},
   "source": [
    "#### Display all the image links from Walt Disney wikipedia page"
   ]
  },
  {
   "cell_type": "code",
   "execution_count": 18,
   "metadata": {},
   "outputs": [],
   "source": [
    "# This is the url you will scrape in this exercise\n",
    "url = 'https://en.wikipedia.org/wiki/Walt_Disney'\n",
    "driver=webdriver.Chrome(PATH)\n",
    "driver.get(url)"
   ]
  },
  {
   "cell_type": "code",
   "execution_count": 19,
   "metadata": {},
   "outputs": [
    {
     "data": {
      "text/plain": [
       "<selenium.webdriver.remote.webelement.WebElement (session=\"383b911ff96080e44f2ea0fbf691b4f2\", element=\"1e7ced33-2cf5-4a4c-8bcc-bc47f9b22639\")>"
      ]
     },
     "execution_count": 19,
     "metadata": {},
     "output_type": "execute_result"
    }
   ],
   "source": [
    "#your code\n",
    "elementos = driver.find_elements(By.TAG_NAME, 'img')\n",
    "elementos[0]"
   ]
  },
  {
   "cell_type": "code",
   "execution_count": 20,
   "metadata": {},
   "outputs": [],
   "source": [
    "image_links = []\n",
    "\n",
    "for i in elementos:\n",
    "    image_links.append(i.get_attribute('src')) \n",
    "    "
   ]
  },
  {
   "cell_type": "code",
   "execution_count": 21,
   "metadata": {},
   "outputs": [
    {
     "data": {
      "text/plain": [
       "['https://en.wikipedia.org/static/images/icons/wikipedia.png',\n",
       " 'https://en.wikipedia.org/static/images/mobile/copyright/wikipedia-wordmark-en.svg',\n",
       " 'https://en.wikipedia.org/static/images/mobile/copyright/wikipedia-tagline-en.svg',\n",
       " 'https://upload.wikimedia.org/wikipedia/en/thumb/e/e7/Cscr-featured.svg/20px-Cscr-featured.svg.png',\n",
       " 'https://upload.wikimedia.org/wikipedia/en/thumb/8/8c/Extended-protection-shackle.svg/20px-Extended-protection-shackle.svg.png',\n",
       " 'https://upload.wikimedia.org/wikipedia/commons/thumb/d/df/Walt_Disney_1946.JPG/220px-Walt_Disney_1946.JPG',\n",
       " 'https://upload.wikimedia.org/wikipedia/commons/thumb/8/87/Walt_Disney_1942_signature.svg/150px-Walt_Disney_1942_signature.svg.png',\n",
       " 'https://upload.wikimedia.org/wikipedia/commons/thumb/3/3a/Walt_Disney_Birthplace_Exterior_Hermosa_Chicago_Illinois.jpg/220px-Walt_Disney_Birthplace_Exterior_Hermosa_Chicago_Illinois.jpg',\n",
       " 'https://upload.wikimedia.org/wikipedia/commons/thumb/c/c4/Walt_Disney_envelope_ca._1921.jpg/220px-Walt_Disney_envelope_ca._1921.jpg',\n",
       " 'https://upload.wikimedia.org/wikipedia/commons/thumb/0/0d/Trolley_Troubles_poster.jpg/170px-Trolley_Troubles_poster.jpg',\n",
       " 'https://upload.wikimedia.org/wikipedia/en/thumb/4/4e/Steamboat-willie.jpg/170px-Steamboat-willie.jpg',\n",
       " 'https://upload.wikimedia.org/wikipedia/commons/thumb/5/57/Walt_Disney_1935.jpg/170px-Walt_Disney_1935.jpg',\n",
       " 'https://upload.wikimedia.org/wikipedia/commons/thumb/c/cd/Walt_Disney_Snow_white_1937_trailer_screenshot_%2813%29.jpg/220px-Walt_Disney_Snow_white_1937_trailer_screenshot_%2813%29.jpg',\n",
       " 'https://upload.wikimedia.org/wikipedia/commons/thumb/1/15/Disney_drawing_goofy.jpg/170px-Disney_drawing_goofy.jpg',\n",
       " 'https://upload.wikimedia.org/wikipedia/commons/thumb/8/8c/WaltDisneyplansDisneylandDec1954.jpg/220px-WaltDisneyplansDisneylandDec1954.jpg',\n",
       " 'https://upload.wikimedia.org/wikipedia/commons/thumb/f/ff/Walt_disney_portrait_right.jpg/170px-Walt_disney_portrait_right.jpg',\n",
       " 'https://upload.wikimedia.org/wikipedia/commons/thumb/1/1a/Walt_Disney_Grave.JPG/170px-Walt_Disney_Grave.JPG',\n",
       " 'https://upload.wikimedia.org/wikipedia/commons/thumb/2/2d/Roy_O._Disney_with_Company_at_Press_Conference.jpg/170px-Roy_O._Disney_with_Company_at_Press_Conference.jpg',\n",
       " 'https://upload.wikimedia.org/wikipedia/commons/thumb/1/13/DisneySchiphol1951.jpg/220px-DisneySchiphol1951.jpg',\n",
       " 'https://upload.wikimedia.org/wikipedia/commons/thumb/6/6c/Disney1968.jpg/170px-Disney1968.jpg',\n",
       " 'https://upload.wikimedia.org/wikipedia/commons/thumb/b/b0/Disney_Oscar_1953_%28cropped%29.jpg/170px-Disney_Oscar_1953_%28cropped%29.jpg',\n",
       " 'https://upload.wikimedia.org/wikipedia/en/thumb/4/4a/Commons-logo.svg/30px-Commons-logo.svg.png',\n",
       " 'https://upload.wikimedia.org/wikipedia/commons/thumb/4/4c/Wikisource-logo.svg/38px-Wikisource-logo.svg.png',\n",
       " 'https://upload.wikimedia.org/wikipedia/commons/thumb/f/fa/Wikiquote-logo.svg/34px-Wikiquote-logo.svg.png',\n",
       " 'https://upload.wikimedia.org/wikipedia/en/thumb/8/8a/OOjs_UI_icon_edit-ltr-progressive.svg/10px-OOjs_UI_icon_edit-ltr-progressive.svg.png',\n",
       " 'https://upload.wikimedia.org/wikipedia/en/thumb/8/8a/OOjs_UI_icon_edit-ltr-progressive.svg/10px-OOjs_UI_icon_edit-ltr-progressive.svg.png',\n",
       " 'https://upload.wikimedia.org/wikipedia/commons/thumb/e/e3/Disneyland_Resort_logo.svg/135px-Disneyland_Resort_logo.svg.png',\n",
       " 'https://upload.wikimedia.org/wikipedia/commons/thumb/d/da/Animation_disc.svg/20px-Animation_disc.svg.png',\n",
       " 'https://upload.wikimedia.org/wikipedia/en/thumb/6/69/P_vip.svg/19px-P_vip.svg.png',\n",
       " 'https://upload.wikimedia.org/wikipedia/commons/thumb/1/1a/Magic_Kingdom_castle.jpg/15px-Magic_Kingdom_castle.jpg',\n",
       " 'https://upload.wikimedia.org/wikipedia/en/thumb/e/e7/Video-x-generic.svg/19px-Video-x-generic.svg.png',\n",
       " 'https://upload.wikimedia.org/wikipedia/commons/thumb/a/a3/Flag_of_Los_Angeles_County%2C_California.svg/21px-Flag_of_Los_Angeles_County%2C_California.svg.png',\n",
       " 'https://upload.wikimedia.org/wikipedia/commons/thumb/8/8c/Blank_television_set.svg/21px-Blank_television_set.svg.png',\n",
       " 'https://upload.wikimedia.org/wikipedia/en/thumb/a/a4/Flag_of_the_United_States.svg/21px-Flag_of_the_United_States.svg.png',\n",
       " 'https://upload.wikimedia.org/wikipedia/en/thumb/4/4a/Commons-logo.svg/14px-Commons-logo.svg.png',\n",
       " 'https://upload.wikimedia.org/wikipedia/commons/thumb/f/fa/Wikiquote-logo.svg/16px-Wikiquote-logo.svg.png',\n",
       " 'https://upload.wikimedia.org/wikipedia/commons/thumb/4/4c/Wikisource-logo.svg/18px-Wikisource-logo.svg.png',\n",
       " 'https://upload.wikimedia.org/wikipedia/commons/thumb/f/ff/Wikidata-logo.svg/21px-Wikidata-logo.svg.png',\n",
       " 'https://upload.wikimedia.org/wikipedia/en/thumb/8/8a/OOjs_UI_icon_edit-ltr-progressive.svg/10px-OOjs_UI_icon_edit-ltr-progressive.svg.png',\n",
       " 'https://en.wikipedia.org/static/images/footer/wikimedia-button.png',\n",
       " 'https://en.wikipedia.org/static/images/footer/poweredby_mediawiki_88x31.png']"
      ]
     },
     "execution_count": 21,
     "metadata": {},
     "output_type": "execute_result"
    }
   ],
   "source": [
    "image_links"
   ]
  },
  {
   "cell_type": "markdown",
   "metadata": {},
   "source": [
    "#### Retrieve an arbitary Wikipedia page of \"Python\" and create a list of links on that page"
   ]
  },
  {
   "cell_type": "code",
   "execution_count": 22,
   "metadata": {},
   "outputs": [],
   "source": [
    "# This is the url you will scrape in this exercise\n",
    "url ='https://en.wikipedia.org/wiki/Python'\n",
    "driver=webdriver.Chrome(PATH)\n",
    "driver.get(url)"
   ]
  },
  {
   "cell_type": "code",
   "execution_count": 23,
   "metadata": {},
   "outputs": [],
   "source": [
    "url_2 = 'https://en.wikipedia.org/wiki/Pythonidae'\n",
    "driver=webdriver.Chrome(PATH)\n",
    "driver.get(url_2)"
   ]
  },
  {
   "cell_type": "code",
   "execution_count": 24,
   "metadata": {},
   "outputs": [],
   "source": [
    "#your code\n",
    "elementos = driver.find_elements(By.TAG_NAME, 'a')"
   ]
  },
  {
   "cell_type": "code",
   "execution_count": 25,
   "metadata": {},
   "outputs": [],
   "source": [
    "links = []\n",
    "\n",
    "for i in elementos:\n",
    "    links.append(i.get_attribute('href'))"
   ]
  },
  {
   "cell_type": "code",
   "execution_count": 26,
   "metadata": {},
   "outputs": [
    {
     "data": {
      "text/plain": [
       "['https://en.wikipedia.org/wiki/Pythonidae#bodyContent',\n",
       " 'https://en.wikipedia.org/wiki/Main_Page',\n",
       " 'https://en.wikipedia.org/wiki/Special:Search',\n",
       " 'https://en.wikipedia.org/w/index.php?title=Special:CreateAccount&returnto=Pythonidae',\n",
       " 'https://en.wikipedia.org/w/index.php?title=Special:CreateAccount&returnto=Pythonidae',\n",
       " 'https://en.wikipedia.org/w/index.php?title=Special:UserLogin&returnto=Pythonidae',\n",
       " 'https://en.wikipedia.org/wiki/Help:Introduction',\n",
       " 'https://en.wikipedia.org/wiki/Special:MyTalk',\n",
       " 'https://en.wikipedia.org/wiki/Special:MyContributions',\n",
       " 'https://en.wikipedia.org/wiki/Main_Page',\n",
       " 'https://en.wikipedia.org/wiki/Wikipedia:Contents',\n",
       " 'https://en.wikipedia.org/wiki/Portal:Current_events',\n",
       " 'https://en.wikipedia.org/wiki/Special:Random',\n",
       " 'https://en.wikipedia.org/wiki/Wikipedia:About',\n",
       " 'https://en.wikipedia.org/wiki/Wikipedia:Contact_us',\n",
       " 'https://donate.wikimedia.org/wiki/Special:FundraiserRedirector?utm_source=donate&utm_medium=sidebar&utm_campaign=C13_en.wikipedia.org&uselang=en',\n",
       " 'https://en.wikipedia.org/wiki/Help:Contents',\n",
       " 'https://en.wikipedia.org/wiki/Help:Introduction',\n",
       " 'https://en.wikipedia.org/wiki/Wikipedia:Community_portal',\n",
       " 'https://en.wikipedia.org/wiki/Special:RecentChanges',\n",
       " 'https://en.wikipedia.org/wiki/Wikipedia:File_upload_wizard',\n",
       " 'https://en.wikipedia.org/wiki/Special:WhatLinksHere/Pythonidae',\n",
       " 'https://en.wikipedia.org/wiki/Special:RecentChangesLinked/Pythonidae',\n",
       " 'https://en.wikipedia.org/wiki/Wikipedia:File_Upload_Wizard',\n",
       " 'https://en.wikipedia.org/wiki/Special:SpecialPages',\n",
       " 'https://en.wikipedia.org/w/index.php?title=Pythonidae&oldid=1137079839',\n",
       " 'https://en.wikipedia.org/w/index.php?title=Pythonidae&action=info',\n",
       " 'https://en.wikipedia.org/w/index.php?title=Special:CiteThisPage&page=Pythonidae&id=1137079839&wpFormIdentifier=titleform',\n",
       " 'https://www.wikidata.org/wiki/Special:EntityPage/Q184018',\n",
       " 'https://en.wikipedia.org/w/index.php?title=Special:DownloadAsPdf&page=Pythonidae&action=show-download-screen',\n",
       " 'https://en.wikipedia.org/w/index.php?title=Pythonidae&printable=yes',\n",
       " 'https://commons.wikimedia.org/wiki/Pythonidae',\n",
       " 'https://species.wikimedia.org/wiki/Pythonidae',\n",
       " 'https://en.wikipedia.org/wiki/Pythonidae#p-lang-btn',\n",
       " 'https://en.wikipedia.org/wiki/Pythonidae#',\n",
       " 'https://en.wikipedia.org/wiki/Pythonidae#Distribution_and_habitat',\n",
       " 'https://en.wikipedia.org/wiki/Pythonidae#Common_names',\n",
       " 'https://en.wikipedia.org/wiki/Pythonidae#Conservation',\n",
       " 'https://en.wikipedia.org/wiki/Pythonidae#Behavior',\n",
       " 'https://en.wikipedia.org/wiki/Pythonidae#Feeding',\n",
       " 'https://en.wikipedia.org/wiki/Pythonidae#Reproduction',\n",
       " 'https://en.wikipedia.org/wiki/Pythonidae#Captivity',\n",
       " 'https://en.wikipedia.org/wiki/Pythonidae#Taxonomy',\n",
       " 'https://en.wikipedia.org/wiki/Pythonidae#Genera',\n",
       " 'https://en.wikipedia.org/wiki/Pythonidae#Relationship_with_humans',\n",
       " 'https://en.wikipedia.org/wiki/Pythonidae#Poaching_pythons',\n",
       " 'https://en.wikipedia.org/wiki/Pythonidae#Pythons_and_human_health',\n",
       " 'https://en.wikipedia.org/wiki/Pythonidae#Traditional_use',\n",
       " 'https://en.wikipedia.org/wiki/Pythonidae#Skin',\n",
       " 'https://en.wikipedia.org/wiki/Pythonidae#Fat',\n",
       " 'https://en.wikipedia.org/wiki/Pythonidae#Blood',\n",
       " 'https://en.wikipedia.org/wiki/Pythonidae#Feces',\n",
       " 'https://en.wikipedia.org/wiki/Pythonidae#Organs',\n",
       " 'https://en.wikipedia.org/wiki/Pythonidae#Folklore',\n",
       " 'https://en.wikipedia.org/wiki/Pythonidae#See_also',\n",
       " 'https://en.wikipedia.org/wiki/Pythonidae#References',\n",
       " 'https://en.wikipedia.org/wiki/Pythonidae#Notes',\n",
       " 'https://en.wikipedia.org/wiki/Pythonidae#Citations',\n",
       " 'https://en.wikipedia.org/wiki/Pythonidae#External_links',\n",
       " 'https://af.wikipedia.org/wiki/Luislange',\n",
       " 'https://ar.wikipedia.org/wiki/%D8%AD%D9%81%D8%A7%D8%AB%D9%8A%D8%A7%D8%AA',\n",
       " 'https://az.wikipedia.org/wiki/Pitonlar',\n",
       " 'https://bn.wikipedia.org/wiki/%E0%A6%85%E0%A6%9C%E0%A6%97%E0%A6%B0',\n",
       " 'https://be.wikipedia.org/wiki/%D0%9F%D1%96%D1%82%D0%BE%D0%BD%D1%8B',\n",
       " 'https://bg.wikipedia.org/wiki/%D0%9F%D0%B8%D1%82%D0%BE%D0%BD%D0%BE%D0%B2%D0%B8',\n",
       " 'https://br.wikipedia.org/wiki/Naer-biton',\n",
       " 'https://ca.wikipedia.org/wiki/Pitons_(fam%C3%ADlia)',\n",
       " 'https://cv.wikipedia.org/wiki/%D0%9F%D0%B8%D1%82%D0%BE%D0%BD%D1%81%D0%B5%D0%BC',\n",
       " 'https://ceb.wikipedia.org/wiki/Pythonidae',\n",
       " 'https://cs.wikipedia.org/wiki/Krajty',\n",
       " 'https://sn.wikipedia.org/wiki/Shato',\n",
       " 'https://cy.wikipedia.org/wiki/Peithon',\n",
       " 'https://de.wikipedia.org/wiki/Pythons',\n",
       " 'https://nv.wikipedia.org/wiki/T%C3%B3_w%C3%B3naan%C3%ADd%C4%99%CC%81%C4%99%CC%81%CA%BC_t%C5%82%CA%BCiish_%C5%84da%CA%BCag%C4%85%CC%81%C4%85hii',\n",
       " 'https://et.wikipedia.org/wiki/P%C3%BC%C3%BCtonlased',\n",
       " 'https://el.wikipedia.org/wiki/%CE%A0%CF%85%CE%B8%CF%89%CE%BD%CE%AF%CE%B4%CE%B5%CF%82',\n",
       " 'https://es.wikipedia.org/wiki/Pythonidae',\n",
       " 'https://eo.wikipedia.org/wiki/Pitonedoj',\n",
       " 'https://eu.wikipedia.org/wiki/Pythonidae',\n",
       " 'https://fa.wikipedia.org/wiki/%D9%BE%D8%A7%DB%8C%D8%AA%D9%88%D9%86%D8%A7%D9%86',\n",
       " 'https://fr.wikipedia.org/wiki/Pythonidae',\n",
       " 'https://gl.wikipedia.org/wiki/Pythonidae',\n",
       " 'https://ko.wikipedia.org/wiki/%EB%B9%84%EB%8B%A8%EB%B1%80%EA%B3%BC',\n",
       " 'https://hy.wikipedia.org/wiki/%D5%8A%D5%AB%D5%A9%D5%B8%D5%B6%D5%B6%D5%A5%D6%80',\n",
       " 'https://hi.wikipedia.org/wiki/%E0%A4%85%E0%A4%9C%E0%A4%97%E0%A4%B0',\n",
       " 'https://hr.wikipedia.org/wiki/Pitoni',\n",
       " 'https://id.wikipedia.org/wiki/Sanca',\n",
       " 'https://it.wikipedia.org/wiki/Pythonidae',\n",
       " 'https://he.wikipedia.org/wiki/%D7%A4%D7%99%D7%AA%D7%95%D7%A0%D7%99%D7%99%D7%9D',\n",
       " 'https://ka.wikipedia.org/wiki/%E1%83%9E%E1%83%98%E1%83%97%E1%83%9D%E1%83%9C%E1%83%94%E1%83%91%E1%83%98',\n",
       " 'https://kk.wikipedia.org/wiki/%D0%9F%D0%B8%D1%82%D0%BE%D0%BD%D0%B4%D0%B0%D1%80',\n",
       " 'https://ky.wikipedia.org/wiki/%D0%9F%D0%B8%D1%82%D0%BE%D0%BD%D0%B4%D0%BE%D1%80',\n",
       " 'https://mrj.wikipedia.org/wiki/%D0%9F%D0%B8%D1%82%D0%BE%D0%BD',\n",
       " 'https://lv.wikipedia.org/wiki/Pitonu_dzimta',\n",
       " 'https://lt.wikipedia.org/wiki/Pitoniniai',\n",
       " 'https://ln.wikipedia.org/wiki/Ng%C3%BAma',\n",
       " 'https://hu.wikipedia.org/wiki/Pitonf%C3%A9l%C3%A9k',\n",
       " 'https://arz.wikipedia.org/wiki/%D8%A8%D9%8A%D8%AB%D9%88%D9%86%D8%A7%D8%AA',\n",
       " 'https://ms.wikipedia.org/wiki/Pythonidae',\n",
       " 'https://nl.wikipedia.org/wiki/Pythons',\n",
       " 'https://new.wikipedia.org/wiki/%E0%A4%85%E0%A4%9C%E0%A4%BF%E0%A4%99%E0%A5%8D%E0%A4%97%E0%A4%B0',\n",
       " 'https://ja.wikipedia.org/wiki/%E3%83%8B%E3%82%B7%E3%82%AD%E3%83%98%E3%83%93%E7%A7%91',\n",
       " 'https://no.wikipedia.org/wiki/Pytonslanger',\n",
       " 'https://pnb.wikipedia.org/wiki/%D9%BE%D8%A7%D8%A6%DB%8C%D8%AA%DA%BE%D9%86',\n",
       " 'https://pl.wikipedia.org/wiki/Pytony',\n",
       " 'https://pt.wikipedia.org/wiki/Pythonidae',\n",
       " 'https://ro.wikipedia.org/wiki/Pitoni',\n",
       " 'https://ru.wikipedia.org/wiki/%D0%9F%D0%B8%D1%82%D0%BE%D0%BD%D1%8B',\n",
       " 'https://sco.wikipedia.org/wiki/Pythonidae',\n",
       " 'https://nso.wikipedia.org/wiki/Hlware',\n",
       " 'https://simple.wikipedia.org/wiki/Python',\n",
       " 'https://sd.wikipedia.org/wiki/%D8%A7%D8%B1%DA%99',\n",
       " 'https://sk.wikipedia.org/wiki/Pyt%C3%B3novit%C3%A9',\n",
       " 'https://ckb.wikipedia.org/wiki/%D9%BE%D8%A7%DB%8C%D8%AA%DB%86%D9%86_(%D9%85%D8%A7%D8%B1)',\n",
       " 'https://sh.wikipedia.org/wiki/Pitoni',\n",
       " 'https://su.wikipedia.org/wiki/Sanca',\n",
       " 'https://fi.wikipedia.org/wiki/Pytonk%C3%A4%C3%A4rmeet',\n",
       " 'https://sv.wikipedia.org/wiki/Pytonormar',\n",
       " 'https://tl.wikipedia.org/wiki/Sawa_(piton)',\n",
       " 'https://th.wikipedia.org/wiki/%E0%B8%A7%E0%B8%87%E0%B8%A8%E0%B9%8C%E0%B8%87%E0%B8%B9%E0%B9%80%E0%B8%AB%E0%B8%A5%E0%B8%B7%E0%B8%AD%E0%B8%A1',\n",
       " 'https://tr.wikipedia.org/wiki/Pythonidae',\n",
       " 'https://uk.wikipedia.org/wiki/%D0%9F%D1%96%D1%82%D0%BE%D0%BD%D0%B8',\n",
       " 'https://vi.wikipedia.org/wiki/H%E1%BB%8D_Tr%C4%83n',\n",
       " 'https://wuu.wikipedia.org/wiki/%E8%9F%92%E7%A7%91',\n",
       " 'https://diq.wikipedia.org/wiki/Piton',\n",
       " 'https://zh.wikipedia.org/wiki/%E8%9F%92%E7%A7%91',\n",
       " 'https://www.wikidata.org/wiki/Special:EntityPage/Q184018#sitelinks-wikipedia',\n",
       " 'https://en.wikipedia.org/wiki/Pythonidae',\n",
       " 'https://en.wikipedia.org/wiki/Talk:Pythonidae',\n",
       " 'https://en.wikipedia.org/wiki/Pythonidae',\n",
       " 'https://en.wikipedia.org/w/index.php?title=Pythonidae&action=edit',\n",
       " 'https://en.wikipedia.org/w/index.php?title=Pythonidae&action=history',\n",
       " 'https://en.wikipedia.org/wiki/Pythonidae',\n",
       " 'https://en.wikipedia.org/w/index.php?title=Pythonidae&action=edit',\n",
       " 'https://en.wikipedia.org/w/index.php?title=Pythonidae&action=history',\n",
       " 'https://en.wikipedia.org/wiki/Pythonides',\n",
       " 'https://en.wikipedia.org/wiki/File:Wiki_letter_w.svg',\n",
       " 'https://en.wikipedia.org/wiki/Wikipedia:Manual_of_Style/Lead_section#Length',\n",
       " 'https://en.wikipedia.org/wiki/Wikipedia:Summary_style',\n",
       " 'https://en.wikipedia.org/wiki/Wikipedia:Manual_of_Style/Lead_section#Provide_an_accessible_overview',\n",
       " 'https://en.wikipedia.org/wiki/File:Python_molurus_molurus_2.jpg',\n",
       " 'https://en.wikipedia.org/wiki/Python_molurus',\n",
       " 'https://en.wikipedia.org/wiki/Taxonomy_(biology)',\n",
       " 'https://en.wikipedia.org/wiki/Template:Taxonomy/Pythonidae',\n",
       " 'https://en.wikipedia.org/wiki/Animal',\n",
       " 'https://en.wikipedia.org/wiki/Chordate',\n",
       " 'https://en.wikipedia.org/wiki/Reptile',\n",
       " 'https://en.wikipedia.org/wiki/Squamata',\n",
       " 'https://en.wikipedia.org/wiki/Snake',\n",
       " 'https://en.wikipedia.org/wiki/Pythonoidea',\n",
       " None,\n",
       " 'https://en.wikipedia.org/wiki/Leopold_Fitzinger',\n",
       " 'https://en.wikipedia.org/wiki/Synonym_(taxonomy)',\n",
       " 'https://en.wikipedia.org/wiki/Pythonidae#cite_note-McD99-1',\n",
       " 'https://en.wikipedia.org/wiki/File:Question_book-new.svg',\n",
       " 'https://en.wikipedia.org/wiki/Wikipedia:Verifiability',\n",
       " 'https://en.wikipedia.org/w/index.php?title=Pythonidae&action=edit',\n",
       " 'https://en.wikipedia.org/wiki/Help:Referencing_for_beginners',\n",
       " 'https://www.google.com/search?as_eq=wikipedia&q=%22Pythonidae%22',\n",
       " 'https://www.google.com/search?tbm=nws&q=%22Pythonidae%22+-wikipedia&tbs=ar:1',\n",
       " 'https://www.google.com/search?&q=%22Pythonidae%22&tbs=bkt:s&tbm=bks',\n",
       " 'https://www.google.com/search?tbs=bks:1&q=%22Pythonidae%22+-wikipedia',\n",
       " 'https://scholar.google.com/scholar?q=%22Pythonidae%22',\n",
       " 'https://www.jstor.org/action/doBasicSearch?Query=%22Pythonidae%22&acc=on&wc=on',\n",
       " 'https://en.wikipedia.org/wiki/Help:Maintenance_template_removal',\n",
       " 'https://en.wikipedia.org/wiki/Family_(biology)',\n",
       " 'https://en.wikipedia.org/wiki/Venomous_snake',\n",
       " 'https://en.wikipedia.org/wiki/Snake',\n",
       " 'https://en.wikipedia.org/wiki/Genus',\n",
       " 'https://en.wikipedia.org/wiki/Species',\n",
       " 'https://en.wikipedia.org/wiki/Rattlesnake',\n",
       " 'https://en.wikipedia.org/wiki/Envenomation',\n",
       " 'https://en.wikipedia.org/wiki/Boidae',\n",
       " 'https://en.wikipedia.org/wiki/Kingsnakes',\n",
       " 'https://en.wikipedia.org/wiki/Pythonidae#cite_note-ITIS-2',\n",
       " 'https://en.wikipedia.org/w/index.php?title=Pythonidae&action=edit&section=1',\n",
       " 'https://en.wikipedia.org/wiki/Sub-Saharan_Africa',\n",
       " 'https://en.wikipedia.org/wiki/Nepal',\n",
       " 'https://en.wikipedia.org/wiki/India',\n",
       " 'https://en.wikipedia.org/wiki/Sri_Lanka',\n",
       " 'https://en.wikipedia.org/wiki/Bangladesh',\n",
       " 'https://en.wikipedia.org/wiki/Southeast_Asia',\n",
       " 'https://en.wikipedia.org/wiki/Pakistan',\n",
       " 'https://en.wikipedia.org/wiki/China',\n",
       " 'https://en.wikipedia.org/wiki/Philippines',\n",
       " 'https://en.wikipedia.org/wiki/Australia',\n",
       " 'https://en.wikipedia.org/wiki/Pythonidae#cite_note-McD99-1',\n",
       " 'https://en.wikipedia.org/wiki/Burmese_python',\n",
       " 'https://en.wikipedia.org/wiki/Invasive_species',\n",
       " 'https://en.wikipedia.org/wiki/Everglades_National_Park',\n",
       " 'https://en.wikipedia.org/wiki/American_alligator',\n",
       " 'https://en.wikipedia.org/wiki/Bobcat',\n",
       " 'https://en.wikipedia.org/wiki/American_bullfrog',\n",
       " 'https://en.wikipedia.org/wiki/Virginia_opossum',\n",
       " 'https://en.wikipedia.org/wiki/Raccoon',\n",
       " 'https://en.wikipedia.org/wiki/North_American_river_otter',\n",
       " 'https://en.wikipedia.org/wiki/White-tailed_deer',\n",
       " 'https://en.wikipedia.org/wiki/Green_iguana',\n",
       " 'https://en.wikipedia.org/wiki/Nutria',\n",
       " 'https://en.wikipedia.org/wiki/Pythonidae#cite_note-NGeo-3',\n",
       " 'https://en.wikipedia.org/w/index.php?title=Pythonidae&action=edit&section=2',\n",
       " 'https://en.wikipedia.org/wiki/Sinhala_language',\n",
       " 'https://en.wikipedia.org/wiki/Telugu_language',\n",
       " 'https://en.wikipedia.org/wiki/Odia_language',\n",
       " 'https://en.wikipedia.org/wiki/Malayalam_language',\n",
       " 'https://en.wikipedia.org/wiki/Hindi_language',\n",
       " 'https://en.wikipedia.org/wiki/Filipino_language',\n",
       " 'https://en.wikipedia.org/wiki/Indonesian_language',\n",
       " 'https://en.wikipedia.org/w/index.php?title=Pythonidae&action=edit&section=3',\n",
       " 'https://en.wikipedia.org/wiki/File:Wiki_letter_w_cropped.svg',\n",
       " 'https://en.wikipedia.org/w/index.php?title=Pythonidae&action=edit&section=',\n",
       " 'https://en.wikipedia.org/wiki/Indian_python',\n",
       " 'https://en.wikipedia.org/w/index.php?title=Pythonidae&action=edit&section=4',\n",
       " 'https://en.wikipedia.org/wiki/File:Blackheaded_python2.jpg',\n",
       " 'https://en.wikipedia.org/wiki/File:Blackheaded_python2.jpg',\n",
       " 'https://en.wikipedia.org/wiki/Black-headed_python',\n",
       " 'https://en.wikipedia.org/wiki/File:Wiki_letter_w_cropped.svg',\n",
       " 'https://en.wikipedia.org/w/index.php?title=Pythonidae&action=edit&section=',\n",
       " 'https://en.wikipedia.org/wiki/Ambush_predator',\n",
       " 'https://en.wikipedia.org/wiki/Pythonidae#cite_note-Wang-4',\n",
       " 'https://en.wikipedia.org/wiki/Pythonidae#cite_note-5',\n",
       " 'https://en.wikipedia.org/w/index.php?title=Pythonidae&action=edit&section=5',\n",
       " 'https://en.wikipedia.org/wiki/Constriction',\n",
       " 'https://en.wikipedia.org/wiki/Pythonidae#cite_note-6',\n",
       " 'https://en.wikipedia.org/wiki/Pythonidae#cite_note-7',\n",
       " 'https://en.wikipedia.org/wiki/Deer',\n",
       " 'https://en.wikipedia.org/wiki/Central_African_rock_python',\n",
       " 'https://en.wikipedia.org/wiki/Antelope',\n",
       " 'https://en.wikipedia.org/wiki/Human',\n",
       " 'https://en.wikipedia.org/wiki/Sulawesi',\n",
       " 'https://en.wikipedia.org/wiki/Indonesia',\n",
       " 'https://en.wikipedia.org/wiki/Pythonidae#cite_note-8',\n",
       " 'https://en.wikipedia.org/wiki/Reticulated_python',\n",
       " 'https://en.wikipedia.org/wiki/Wikipedia:Citation_needed',\n",
       " 'https://en.wikipedia.org/wiki/Wikipedia:Citation_needed',\n",
       " 'https://en.wikipedia.org/wiki/File:Python_skull_rotation.gif',\n",
       " 'https://en.wikipedia.org/wiki/File:Python_skull_rotation.gif',\n",
       " 'https://en.wikipedia.org/w/index.php?title=Pythonidae&action=edit&section=6',\n",
       " 'https://en.wikipedia.org/wiki/Oviparous',\n",
       " 'https://en.wikipedia.org/wiki/Boidae',\n",
       " 'https://en.wikipedia.org/wiki/Ovoviviparous',\n",
       " 'https://en.wikipedia.org/w/index.php?title=Pythonidae&action=edit&section=7',\n",
       " 'https://en.wikipedia.org/wiki/Pythonidae#cite_note-Anapsid-9',\n",
       " 'https://en.wikipedia.org/wiki/Pythonidae#cite_note-10',\n",
       " 'https://en.wikipedia.org/w/index.php?title=Pythonidae&action=edit&section=8',\n",
       " 'https://en.wikipedia.org/wiki/George_Albert_Boulenger',\n",
       " 'https://en.wikipedia.org/wiki/Subfamily',\n",
       " 'https://en.wikipedia.org/wiki/Boidae',\n",
       " 'https://en.wikipedia.org/wiki/Pythonidae#cite_note-McD99-1',\n",
       " 'https://en.wikipedia.org/wiki/Xenopeltis',\n",
       " 'https://en.wikipedia.org/wiki/Loxocemus',\n",
       " 'https://en.wikipedia.org/wiki/Pythonidae#cite_note-11',\n",
       " 'https://en.wikipedia.org/wiki/Pythonidae#cite_note-12',\n",
       " 'https://en.wikipedia.org/w/index.php?title=Pythonidae&action=edit&section=9',\n",
       " 'https://en.wikipedia.org/wiki/Pythonidae#cite_note-ITIS-2',\n",
       " 'https://en.wikipedia.org/wiki/Pythonidae#cite_note-ITIS-2',\n",
       " 'https://en.wikipedia.org/wiki/Pythonidae#cite_note-ITIS-2',\n",
       " 'https://en.wikipedia.org/wiki/Pythonidae#cite_note-13',\n",
       " 'https://en.wikipedia.org/wiki/Pythonidae#cite_note-ITIS-2',\n",
       " 'https://en.wikipedia.org/wiki/Pythonidae#cite_note-McD99-1',\n",
       " 'https://en.wikipedia.org/wiki/Antaresia',\n",
       " 'https://en.wikipedia.org/wiki/Apodora',\n",
       " 'https://en.wikipedia.org/wiki/Pythonidae#cite_note-14',\n",
       " 'https://en.wikipedia.org/wiki/Aspidites',\n",
       " 'https://en.wikipedia.org/wiki/Wilhelm_Peters',\n",
       " 'https://en.wikipedia.org/wiki/Bismarck_ringed_python',\n",
       " 'https://en.wikipedia.org/wiki/Leopold_Fitzinger',\n",
       " 'https://en.wikipedia.org/wiki/Leiopython',\n",
       " 'https://en.wikipedia.org/wiki/Ambrosius_Hubrecht',\n",
       " 'https://en.wikipedia.org/wiki/Liasis',\n",
       " 'https://en.wikipedia.org/wiki/John_Edward_Gray',\n",
       " 'https://en.wikipedia.org/wiki/Indonesia',\n",
       " 'https://en.wikipedia.org/wiki/Lesser_Sunda_Islands',\n",
       " 'https://en.wikipedia.org/wiki/Malayopython',\n",
       " 'https://en.wikipedia.org/wiki/Morelia_(snake)',\n",
       " 'https://en.wikipedia.org/wiki/Maluku_Islands',\n",
       " 'https://en.wikipedia.org/wiki/Oenpelli_python',\n",
       " 'https://en.wikipedia.org/wiki/Python_(genus)',\n",
       " 'https://en.wikipedia.org/wiki/Pythonidae#cite_note-15',\n",
       " 'https://en.wikipedia.org/wiki/Fran%C3%A7ois_Marie_Daudin',\n",
       " 'https://en.wikipedia.org/wiki/Sahara',\n",
       " 'https://en.wikipedia.org/wiki/Madagascar',\n",
       " 'https://en.wikipedia.org/wiki/Bangladesh',\n",
       " 'https://en.wikipedia.org/wiki/Sri_Lanka',\n",
       " 'https://en.wikipedia.org/wiki/Nicobar_Islands',\n",
       " 'https://en.wikipedia.org/wiki/Burma',\n",
       " 'https://en.wikipedia.org/wiki/Indochina',\n",
       " 'https://en.wikipedia.org/wiki/Hong_Kong',\n",
       " 'https://en.wikipedia.org/wiki/Hainan',\n",
       " 'https://en.wikipedia.org/wiki/Indonesia',\n",
       " 'https://en.wikipedia.org/wiki/Philippines',\n",
       " 'https://en.wikipedia.org/wiki/Simalia',\n",
       " 'https://en.wikipedia.org/wiki/Halmahera',\n",
       " 'https://en.wikipedia.org/wiki/Ambon_Island',\n",
       " 'https://en.wikipedia.org/wiki/Seram_Island',\n",
       " 'https://en.wikipedia.org/wiki/Maluku_Islands',\n",
       " 'https://en.wikipedia.org/wiki/Northern_Territory',\n",
       " 'https://en.wikipedia.org/wiki/Queensland',\n",
       " 'https://en.wikipedia.org/wiki/Torres_Strait',\n",
       " 'https://en.wikipedia.org/wiki/Papua_New_Guinea',\n",
       " 'https://en.wikipedia.org/w/index.php?title=Pythonidae&action=edit&section=10',\n",
       " 'https://en.wikipedia.org/w/index.php?title=Pythonidae&action=edit&section=11',\n",
       " 'https://en.wikipedia.org/wiki/Poaching',\n",
       " 'https://en.wikipedia.org/wiki/Pythonidae#cite_note-16',\n",
       " 'https://en.wikipedia.org/wiki/Bushmeat',\n",
       " 'https://en.wikipedia.org/wiki/Pythonidae#cite_note-Jensen_2017-17',\n",
       " 'https://en.wikipedia.org/wiki/Pythonidae#cite_note-18',\n",
       " 'https://en.wikipedia.org/wiki/Cameroon',\n",
       " 'https://en.wikipedia.org/wiki/African_rock_python',\n",
       " 'https://en.wikipedia.org/wiki/Pythonidae#cite_note-Jensen_2017-17',\n",
       " 'https://en.wikipedia.org/wiki/Cameroon',\n",
       " 'https://en.wikipedia.org/wiki/Kenya',\n",
       " 'https://en.wikipedia.org/wiki/Snakeskin',\n",
       " 'https://en.wikipedia.org/wiki/Pythonidae#cite_note-19',\n",
       " 'https://en.wikipedia.org/w/index.php?title=Pythonidae&action=edit&section=12',\n",
       " 'https://en.wikipedia.org/wiki/Salmonellosis',\n",
       " 'https://en.wikipedia.org/wiki/Chlamydia_infection',\n",
       " 'https://en.wikipedia.org/wiki/Leptospirosis',\n",
       " 'https://en.wikipedia.org/w/index.php?title=Aeromoniasis&action=edit&redlink=1',\n",
       " 'https://en.wikipedia.org/wiki/Campylobacteriosis',\n",
       " 'https://en.wikipedia.org/wiki/Zygomycosis',\n",
       " 'https://en.wikipedia.org/wiki/Pythonidae#cite_note-20',\n",
       " 'https://en.wikipedia.org/wiki/Pythonidae#cite_note-21',\n",
       " 'https://en.wikipedia.org/wiki/Sepsis',\n",
       " 'https://en.wikipedia.org/wiki/Meningitis',\n",
       " 'https://en.wikipedia.org/wiki/Pythonidae#cite_note-22',\n",
       " 'https://en.wikipedia.org/wiki/Pythonidae#cite_note-Soewu_2008-23',\n",
       " 'https://en.wikipedia.org/wiki/Hispid_cotton_rat',\n",
       " 'https://en.wikipedia.org/wiki/Everglades_virus',\n",
       " 'https://en.wikipedia.org/wiki/Pythonidae#cite_note-24',\n",
       " 'https://en.wikipedia.org/w/index.php?title=Pythonidae&action=edit&section=13',\n",
       " 'https://en.wikipedia.org/w/index.php?title=Pythonidae&action=edit&section=14',\n",
       " 'https://en.wikipedia.org/wiki/Pythonidae#cite_note-AlexanderMoshoeu2016-25',\n",
       " 'https://en.wikipedia.org/wiki/South_Africa',\n",
       " 'https://en.wikipedia.org/wiki/Zulu_people',\n",
       " 'https://en.wikipedia.org/wiki/Pythonidae#cite_note-AlexanderMoshoeu2016-25',\n",
       " 'https://en.wikipedia.org/wiki/Pythonidae#cite_note-AlexanderMoshoeu2016-25',\n",
       " 'https://en.wikipedia.org/w/index.php?title=Pythonidae&action=edit&section=15',\n",
       " 'https://en.wikipedia.org/wiki/Pythonidae#cite_note-AlexanderMoshoeu2016-25',\n",
       " 'https://en.wikipedia.org/wiki/Joint_pain',\n",
       " 'https://en.wikipedia.org/wiki/Rheumatism',\n",
       " 'https://en.wikipedia.org/wiki/Toothache',\n",
       " 'https://en.wikipedia.org/wiki/Eye_sight',\n",
       " 'https://en.wikipedia.org/wiki/Pythonidae#cite_note-:2-26',\n",
       " 'https://en.wikipedia.org/wiki/Psychosis',\n",
       " 'https://en.wikipedia.org/wiki/Pythonidae#cite_note-KajawuChingarande2015-27',\n",
       " 'https://en.wikipedia.org/wiki/Pythonidae#cite_note-:2-26',\n",
       " 'https://en.wikipedia.org/wiki/Pythonidae#cite_note-28',\n",
       " 'https://en.wikipedia.org/w/index.php?title=Pythonidae&action=edit&section=16',\n",
       " 'https://en.wikipedia.org/wiki/Traditional_medicine',\n",
       " 'https://en.wikipedia.org/wiki/Fatty_acid',\n",
       " 'https://en.wikipedia.org/wiki/Triglyceride',\n",
       " 'https://en.wikipedia.org/wiki/Lipid',\n",
       " 'https://en.wikipedia.org/wiki/Pythonidae#cite_note-:2-26',\n",
       " 'https://en.wikipedia.org/wiki/Pythonidae#cite_note-:2-26',\n",
       " 'https://en.wikipedia.org/wiki/Pythonidae#cite_note-29',\n",
       " 'https://en.wikipedia.org/w/index.php?title=Pythonidae&action=edit&section=17',\n",
       " 'https://en.wikipedia.org/wiki/Tanzania',\n",
       " 'https://en.wikipedia.org/wiki/Feces',\n",
       " 'https://en.wikipedia.org/wiki/Pythonidae#cite_note-30',\n",
       " 'https://en.wikipedia.org/w/index.php?title=Pythonidae&action=edit&section=18',\n",
       " 'https://en.wikipedia.org/wiki/Gallbladder',\n",
       " 'https://en.wikipedia.org/wiki/Liver',\n",
       " 'https://en.wikipedia.org/wiki/Pythonidae#cite_note-Soewu_2008-23',\n",
       " 'https://en.wikipedia.org/wiki/Pythonidae#cite_note-Soewu_2008-23',\n",
       " 'https://en.wikipedia.org/w/index.php?title=Pythonidae&action=edit&section=19',\n",
       " 'https://en.wikipedia.org/wiki/Ghana',\n",
       " 'https://en.wikipedia.org/wiki/Pythonidae#cite_note-31',\n",
       " 'https://en.wikipedia.org/wiki/Botswana',\n",
       " 'https://en.wikipedia.org/wiki/Pythonidae#cite_note-32',\n",
       " 'https://en.wikipedia.org/wiki/Benin',\n",
       " 'https://en.wikipedia.org/wiki/Yoruba_language',\n",
       " 'https://en.wikipedia.org/wiki/Pythonidae#cite_note-33',\n",
       " 'https://en.wikipedia.org/w/index.php?title=Pythonidae&action=edit&section=20',\n",
       " 'https://en.wikipedia.org/wiki/List_of_pythonid_species_and_subspecies',\n",
       " 'https://en.wikipedia.org/w/index.php?title=Pythonidae&action=edit&section=21',\n",
       " 'https://en.wikipedia.org/w/index.php?title=Pythonidae&action=edit&section=22',\n",
       " 'https://en.wikipedia.org/wiki/Pythonidae#cite_ref-13',\n",
       " 'https://en.wikipedia.org/wiki/Subspecies#Nominotypical_subspecies_and_subspecies_autonyms',\n",
       " 'https://en.wikipedia.org/wiki/Pythonidae#cite_ref-15',\n",
       " 'https://en.wikipedia.org/wiki/Type_genus',\n",
       " 'https://en.wikipedia.org/wiki/Pythonidae#cite_note-McD99-1',\n",
       " 'https://en.wikipedia.org/w/index.php?title=Pythonidae&action=edit&section=23',\n",
       " 'https://en.wikipedia.org/wiki/Pythonidae#cite_ref-McD99_1-0',\n",
       " 'https://en.wikipedia.org/wiki/Pythonidae#cite_ref-McD99_1-1',\n",
       " 'https://en.wikipedia.org/wiki/Pythonidae#cite_ref-McD99_1-2',\n",
       " 'https://en.wikipedia.org/wiki/Pythonidae#cite_ref-McD99_1-3',\n",
       " 'https://en.wikipedia.org/wiki/Pythonidae#cite_ref-McD99_1-4',\n",
       " 'https://books.google.com/books?id=GQOuswEACAAJ',\n",
       " 'https://en.wikipedia.org/wiki/ISBN_(identifier)',\n",
       " 'https://en.wikipedia.org/wiki/Special:BookSources/978-1-893777-01-9',\n",
       " 'https://en.wikipedia.org/wiki/Pythonidae#cite_ref-ITIS_2-0',\n",
       " 'https://en.wikipedia.org/wiki/Pythonidae#cite_ref-ITIS_2-1',\n",
       " 'https://en.wikipedia.org/wiki/Pythonidae#cite_ref-ITIS_2-2',\n",
       " 'https://en.wikipedia.org/wiki/Pythonidae#cite_ref-ITIS_2-3',\n",
       " 'https://en.wikipedia.org/wiki/Pythonidae#cite_ref-ITIS_2-4',\n",
       " 'https://www.itis.gov/servlet/SingleRpt/SingleRpt?search_topic=TSN&search_value=563893',\n",
       " 'https://en.wikipedia.org/wiki/Integrated_Taxonomic_Information_System',\n",
       " 'https://en.wikipedia.org/wiki/Pythonidae#cite_ref-NGeo_3-0',\n",
       " 'http://news.nationalgeographic.com/news/2004/06/0603_040603_invasivespecies.html',\n",
       " 'https://en.wikipedia.org/wiki/Pythonidae#cite_ref-Wang_4-0',\n",
       " 'https://www.washingtonpost.com/news/worldviews/wp/2017/03/29/an-indonesian-man-disappeared-villagers-found-his-body-inside-a-23-foot-long-python/',\n",
       " 'https://en.wikipedia.org/wiki/Pythonidae#cite_ref-5',\n",
       " 'https://www.washingtonpost.com/news/worldviews/wp/2018/06/16/a-woman-went-to-check-her-corn-and-was-swallowed-by-a-python/?wpisrc=nl_most&wpmm=1',\n",
       " 'https://en.wikipedia.org/wiki/Pythonidae#cite_ref-6',\n",
       " 'https://en.wikipedia.org/wiki/Pythonidae#cite_ref-7',\n",
       " 'https://doi.org/10.1242%2Fjeb.121384',\n",
       " 'https://en.wikipedia.org/wiki/Doi_(identifier)',\n",
       " 'https://doi.org/10.1242%2Fjeb.121384',\n",
       " 'https://en.wikipedia.org/wiki/PMID_(identifier)',\n",
       " 'https://pubmed.ncbi.nlm.nih.gov/26202779',\n",
       " 'https://en.wikipedia.org/wiki/Pythonidae#cite_ref-8',\n",
       " 'https://www.theguardian.com/world/2017/mar/29/giant-python-swallows-indonesian-farmer-in-one-go',\n",
       " 'https://en.wikipedia.org/wiki/Pythonidae#cite_ref-Anapsid_9-0',\n",
       " 'http://www.anapsid.org/coloburm.html',\n",
       " 'https://en.wikipedia.org/wiki/Pythonidae#cite_ref-10',\n",
       " 'http://m.humanesociety.org/assets/pdfs/wildlife/captive/constrictor-snake-attacks.pdf',\n",
       " 'https://en.wikipedia.org/wiki/Pythonidae#cite_ref-11',\n",
       " 'https://www.ncbi.nlm.nih.gov/pmc/articles/PMC3682911',\n",
       " 'https://en.wikipedia.org/wiki/Doi_(identifier)',\n",
       " 'https://doi.org/10.1186%2F1471-2148-13-93',\n",
       " 'https://en.wikipedia.org/wiki/PMC_(identifier)',\n",
       " 'https://www.ncbi.nlm.nih.gov/pmc/articles/PMC3682911',\n",
       " 'https://en.wikipedia.org/wiki/PMID_(identifier)',\n",
       " 'https://pubmed.ncbi.nlm.nih.gov/23627680',\n",
       " 'https://en.wikipedia.org/wiki/Pythonidae#cite_ref-12',\n",
       " 'https://web.archive.org/web/20151202212953/http://www.rgrahamreynolds.info/wp-content/uploads/2014/01/Reynolds_etal_2014_MPE.pdf',\n",
       " 'https://en.wikipedia.org/wiki/Doi_(identifier)',\n",
       " 'https://doi.org/10.1016%2Fj.ympev.2013.11.011',\n",
       " 'https://en.wikipedia.org/wiki/PMID_(identifier)',\n",
       " 'https://pubmed.ncbi.nlm.nih.gov/24315866',\n",
       " 'http://www.rgrahamreynolds.info/wp-content/uploads/2014/01/Reynolds_etal_2014_MPE.pdf',\n",
       " 'https://en.wikipedia.org/wiki/Pythonidae#cite_ref-14',\n",
       " 'https://media.australianmuseum.net.au/media/Uploads/Journals/16847/52_complete.pdf',\n",
       " 'https://en.wikipedia.org/wiki/Doi_(identifier)',\n",
       " 'https://doi.org/10.3853%2Fj.0812-7387.19.1993.52',\n",
       " 'https://en.wikipedia.org/wiki/ISBN_(identifier)',\n",
       " 'https://en.wikipedia.org/wiki/Special:BookSources/0-7310-1164-3',\n",
       " 'https://en.wikipedia.org/wiki/Pythonidae#cite_ref-16',\n",
       " 'https://www.bbc.com/news/science-environment-20509720',\n",
       " 'https://en.wikipedia.org/wiki/Pythonidae#cite_ref-Jensen_2017_17-0',\n",
       " 'https://en.wikipedia.org/wiki/Pythonidae#cite_ref-Jensen_2017_17-1',\n",
       " 'https://blog.nationalgeographic.org/2017/09/05/large-snakes-are-on-the-menu-at-cameroons-nkoldongo-bushmeat-market/',\n",
       " 'https://en.wikipedia.org/wiki/Pythonidae#cite_ref-18',\n",
       " 'https://motherboard.vice.com/en_us/article/pgapvv/snake-farms-could-tackle-the-billion-dollar-black-market-for-python-skin',\n",
       " 'https://en.wikipedia.org/wiki/Pythonidae#cite_ref-19',\n",
       " 'https://www.bbc.com/news/business-38499611',\n",
       " 'https://en.wikipedia.org/wiki/Pythonidae#cite_ref-20',\n",
       " 'https://ras.research.cornell.edu/care/documents/OHS/zoonosis_information_sheet_reptiles.pdf',\n",
       " 'https://en.wikipedia.org/wiki/Pythonidae#cite_ref-21',\n",
       " 'https://doi.org/10.1016%2Fj.apjtm.2017.07.020',\n",
       " 'https://en.wikipedia.org/wiki/Doi_(identifier)',\n",
       " 'https://doi.org/10.1016%2Fj.apjtm.2017.07.020',\n",
       " 'https://en.wikipedia.org/wiki/PMID_(identifier)',\n",
       " 'https://pubmed.ncbi.nlm.nih.gov/28942820',\n",
       " 'https://en.wikipedia.org/wiki/Pythonidae#cite_ref-22',\n",
       " 'https://www.zora.uzh.ch/id/eprint/79426/1/Meyer_Vector-Borne_2013.pdf',\n",
       " 'https://en.wikipedia.org/wiki/Doi_(identifier)',\n",
       " 'https://doi.org/10.1089%2Fvbz.2012.1133',\n",
       " 'https://en.wikipedia.org/wiki/PMID_(identifier)',\n",
       " 'https://pubmed.ncbi.nlm.nih.gov/23473215',\n",
       " 'https://en.wikipedia.org/wiki/S2CID_(identifier)',\n",
       " 'https://api.semanticscholar.org/CorpusID:1311418',\n",
       " 'https://en.wikipedia.org/wiki/Pythonidae#cite_ref-Soewu_2008_23-0',\n",
       " 'https://en.wikipedia.org/wiki/Pythonidae#cite_ref-Soewu_2008_23-1',\n",
       " 'https://en.wikipedia.org/wiki/Pythonidae#cite_ref-Soewu_2008_23-2',\n",
       " 'https://www.researchgate.net/publication/228671991',\n",
       " 'https://en.wikipedia.org/wiki/Pythonidae#cite_ref-24',\n",
       " 'https://www.ncbi.nlm.nih.gov/pmc/articles/PMC5665769',\n",
       " 'https://en.wikipedia.org/wiki/Doi_(identifier)',\n",
       " 'https://doi.org/10.1098%2Frsbl.2017.0353',\n",
       " 'https://en.wikipedia.org/wiki/PMC_(identifier)',\n",
       " 'https://www.ncbi.nlm.nih.gov/pmc/articles/PMC5665769',\n",
       " 'https://en.wikipedia.org/wiki/PMID_(identifier)',\n",
       " 'https://pubmed.ncbi.nlm.nih.gov/28978755',\n",
       " 'https://en.wikipedia.org/wiki/Pythonidae#cite_ref-AlexanderMoshoeu2016_25-0',\n",
       " 'https://en.wikipedia.org/wiki/Pythonidae#cite_ref-AlexanderMoshoeu2016_25-1',\n",
       " 'https://en.wikipedia.org/wiki/Pythonidae#cite_ref-AlexanderMoshoeu2016_25-2',\n",
       " 'https://en.wikipedia.org/wiki/Pythonidae#cite_ref-AlexanderMoshoeu2016_25-3',\n",
       " 'https://doi.org/10.17159%2Fsajs.2016%2F20150416',\n",
       " 'https://en.wikipedia.org/wiki/Doi_(identifier)',\n",
       " 'https://doi.org/10.17159%2Fsajs.2016%2F20150416',\n",
       " 'https://en.wikipedia.org/wiki/ISSN_(identifier)',\n",
       " 'https://www.worldcat.org/issn/0038-2353',\n",
       " 'https://en.wikipedia.org/wiki/Pythonidae#cite_ref-:2_26-0',\n",
       " 'https://en.wikipedia.org/wiki/Pythonidae#cite_ref-:2_26-1',\n",
       " 'https://en.wikipedia.org/wiki/Pythonidae#cite_ref-:2_26-2',\n",
       " 'https://en.wikipedia.org/wiki/Pythonidae#cite_ref-:2_26-3',\n",
       " 'https://www.sryahwapublications.com/journal-of-zoological-research/volume-1-issue-1/1.php',\n",
       " 'https://en.wikipedia.org/wiki/Pythonidae#cite_ref-KajawuChingarande2015_27-0',\n",
       " 'https://www.researchgate.net/publication/283805674',\n",
       " 'https://en.wikipedia.org/wiki/Doi_(identifier)',\n",
       " 'https://doi.org/10.1080%2F17542863.2015.1106568',\n",
       " 'https://en.wikipedia.org/wiki/ISSN_(identifier)',\n",
       " 'https://www.worldcat.org/issn/1754-2863',\n",
       " 'https://en.wikipedia.org/wiki/S2CID_(identifier)',\n",
       " 'https://api.semanticscholar.org/CorpusID:57728277',\n",
       " 'https://en.wikipedia.org/wiki/Pythonidae#cite_ref-28',\n",
       " 'https://pubmed.ncbi.nlm.nih.gov/19051590/',\n",
       " 'https://en.wikipedia.org/wiki/PMID_(identifier)',\n",
       " 'https://pubmed.ncbi.nlm.nih.gov/19051590',\n",
       " 'https://en.wikipedia.org/wiki/Pythonidae#cite_ref-29',\n",
       " 'https://www.ncbi.nlm.nih.gov/pmc/articles/PMC2853519',\n",
       " 'https://en.wikipedia.org/wiki/Doi_(identifier)',\n",
       " 'https://doi.org/10.1186%2F1746-4269-6-13',\n",
       " 'https://en.wikipedia.org/wiki/PMC_(identifier)',\n",
       " 'https://www.ncbi.nlm.nih.gov/pmc/articles/PMC2853519',\n",
       " 'https://en.wikipedia.org/wiki/PMID_(identifier)',\n",
       " 'https://pubmed.ncbi.nlm.nih.gov/20346120',\n",
       " 'https://en.wikipedia.org/wiki/Pythonidae#cite_ref-30',\n",
       " 'https://www.ncbi.nlm.nih.gov/pmc/articles/PMC4472419',\n",
       " 'https://en.wikipedia.org/wiki/Doi_(identifier)',\n",
       " 'https://doi.org/10.1186%2Fs13002-015-0001-y',\n",
       " 'https://en.wikipedia.org/wiki/PMC_(identifier)',\n",
       " 'https://www.ncbi.nlm.nih.gov/pmc/articles/PMC4472419',\n",
       " 'https://en.wikipedia.org/wiki/PMID_(identifier)',\n",
       " 'https://pubmed.ncbi.nlm.nih.gov/25947365',\n",
       " 'https://en.wikipedia.org/wiki/Pythonidae#cite_ref-31',\n",
       " 'http://www.jpanafrican.org/docs/vol8no9/8.9-10-FDiawuo.pdf',\n",
       " 'https://en.wikipedia.org/wiki/Pythonidae#cite_ref-32',\n",
       " 'https://www.apollon.uio.no/english/articles/2006/python-english.html',\n",
       " 'https://en.wikipedia.org/wiki/Pythonidae#cite_ref-33',\n",
       " 'https://www.bbc.com/news/world-africa-41048840',\n",
       " 'https://en.wikipedia.org/w/index.php?title=Pythonidae&action=edit&section=24',\n",
       " 'https://en.wikipedia.org/wiki/Wikispecies',\n",
       " 'https://species.wikimedia.org/wiki/Special:Search/Pythonidae',\n",
       " 'https://commons.wikimedia.org/wiki/Pythonidae',\n",
       " 'http://reptile-database.reptarium.cz/search.php?submit=Search&taxon=Pythonidae',\n",
       " 'http://reptile-database.reptarium.cz/',\n",
       " None,\n",
       " 'https://en.wikipedia.org/wiki/Template:Pythonidae',\n",
       " 'https://en.wikipedia.org/wiki/Template_talk:Pythonidae',\n",
       " 'https://en.wikipedia.org/w/index.php?title=Template:Pythonidae&action=edit',\n",
       " None,\n",
       " 'https://en.wikipedia.org/wiki/Antaresia',\n",
       " 'https://en.wikipedia.org/wiki/Children%27s_python',\n",
       " 'https://en.wikipedia.org/wiki/Spotted_python',\n",
       " 'https://en.wikipedia.org/wiki/Pygmy_python',\n",
       " 'https://en.wikipedia.org/wiki/Apodora',\n",
       " 'https://en.wikipedia.org/wiki/Apodora',\n",
       " 'https://en.wikipedia.org/wiki/Aspidites',\n",
       " 'https://en.wikipedia.org/wiki/Black-headed_python',\n",
       " 'https://en.wikipedia.org/wiki/Woma_python',\n",
       " 'https://en.wikipedia.org/wiki/Bismarck_ringed_python',\n",
       " 'https://en.wikipedia.org/wiki/Bismarck_ringed_python',\n",
       " 'https://en.wikipedia.org/wiki/Leiopython',\n",
       " 'https://en.wikipedia.org/wiki/D%27Albertis_python',\n",
       " 'https://en.wikipedia.org/wiki/Leiopython_biakensis',\n",
       " 'https://en.wikipedia.org/wiki/Leiopython_fredparkeri',\n",
       " 'https://en.wikipedia.org/wiki/Liasis',\n",
       " 'https://en.wikipedia.org/wiki/Water_python',\n",
       " 'https://en.wikipedia.org/wiki/Liasis_mackloti',\n",
       " 'https://en.wikipedia.org/wiki/Olive_python',\n",
       " 'https://en.wikipedia.org/wiki/Malayopython',\n",
       " 'https://en.wikipedia.org/wiki/Reticulated_python',\n",
       " 'https://en.wikipedia.org/wiki/Timor_python',\n",
       " 'https://en.wikipedia.org/wiki/Morelia_(snake)',\n",
       " 'https://en.wikipedia.org/wiki/Morelia_azurea',\n",
       " 'https://en.wikipedia.org/wiki/Morelia_bredli',\n",
       " 'https://en.wikipedia.org/wiki/Morelia_carinata',\n",
       " 'https://en.wikipedia.org/wiki/Morelia_imbricata',\n",
       " 'https://en.wikipedia.org/wiki/Morelia_spilota',\n",
       " 'https://en.wikipedia.org/wiki/Green_tree_python',\n",
       " 'https://en.wikipedia.org/wiki/Nyctophilopython',\n",
       " 'https://en.wikipedia.org/wiki/Oenpelli_python',\n",
       " 'https://en.wikipedia.org/wiki/Python_(genus)',\n",
       " 'https://en.wikipedia.org/wiki/Python_anchietae',\n",
       " 'https://en.wikipedia.org/wiki/Burmese_python',\n",
       " 'https://en.wikipedia.org/wiki/Borneo_python',\n",
       " 'https://en.wikipedia.org/wiki/Python_brongersmai',\n",
       " 'https://en.wikipedia.org/wiki/Sumatran_short-tailed_python',\n",
       " 'https://en.wikipedia.org/wiki/Python_kyaiktiyo',\n",
       " 'https://en.wikipedia.org/wiki/Indian_python',\n",
       " 'https://en.wikipedia.org/wiki/Southern_African_rock_python',\n",
       " 'https://en.wikipedia.org/wiki/Ball_python',\n",
       " 'https://en.wikipedia.org/wiki/Central_African_rock_python',\n",
       " 'https://en.wikipedia.org/wiki/Simalia',\n",
       " 'https://en.wikipedia.org/wiki/Amethystine_python',\n",
       " 'https://en.wikipedia.org/wiki/Simalia_boeleni',\n",
       " 'https://en.wikipedia.org/wiki/Simalia_clastolepis',\n",
       " 'https://en.wikipedia.org/wiki/Australian_scrub_python',\n",
       " 'https://en.wikipedia.org/wiki/Simalia_nauta',\n",
       " 'https://en.wikipedia.org/wiki/Simalia_tracyae',\n",
       " None,\n",
       " 'https://en.wikipedia.org/wiki/Template:Snake_families',\n",
       " 'https://en.wikipedia.org/wiki/Template_talk:Snake_families',\n",
       " 'https://en.wikipedia.org/w/index.php?title=Template:Snake_families&action=edit',\n",
       " 'https://en.wikipedia.org/wiki/List_of_Serpentes_families',\n",
       " 'https://en.wikipedia.org/wiki/Animal',\n",
       " 'https://en.wikipedia.org/wiki/Chordate',\n",
       " 'https://en.wikipedia.org/wiki/Reptile',\n",
       " 'https://en.wikipedia.org/wiki/Squamata',\n",
       " 'https://en.wikipedia.org/wiki/Alethinophidia',\n",
       " 'https://en.wikipedia.org/wiki/Acrochordidae',\n",
       " 'https://en.wikipedia.org/wiki/Aniliidae',\n",
       " 'https://en.wikipedia.org/wiki/Anomochilidae',\n",
       " 'https://en.wikipedia.org/wiki/Atractaspididae',\n",
       " 'https://en.wikipedia.org/wiki/Boidae',\n",
       " 'https://en.wikipedia.org/wiki/Bolyeriidae',\n",
       " 'https://en.wikipedia.org/wiki/Colubridae',\n",
       " 'https://en.wikipedia.org/wiki/Cyclocoridae',\n",
       " 'https://en.wikipedia.org/wiki/Cylindrophis',\n",
       " 'https://en.wikipedia.org/wiki/Elapidae',\n",
       " 'https://en.wikipedia.org/wiki/Homalopsidae',\n",
       " 'https://en.wikipedia.org/wiki/Lamprophiidae',\n",
       " 'https://en.wikipedia.org/wiki/Loxocemidae',\n",
       " 'https://en.wikipedia.org/wiki/Prosymnidae',\n",
       " 'https://en.wikipedia.org/wiki/Psammophiidae',\n",
       " 'https://en.wikipedia.org/wiki/Pseudaspididae',\n",
       " 'https://en.wikipedia.org/wiki/Pseudoxyrhophiidae',\n",
       " None,\n",
       " 'https://en.wikipedia.org/wiki/Tropidophiidae',\n",
       " 'https://en.wikipedia.org/wiki/Uropeltidae',\n",
       " 'https://en.wikipedia.org/wiki/Viperidae',\n",
       " 'https://en.wikipedia.org/wiki/Xenodermidae',\n",
       " 'https://en.wikipedia.org/wiki/Xenopeltidae',\n",
       " 'https://en.wikipedia.org/wiki/Xenophidiidae',\n",
       " 'https://en.wikipedia.org/wiki/Scolecophidia',\n",
       " 'https://en.wikipedia.org/wiki/Anomalepididae',\n",
       " 'https://en.wikipedia.org/wiki/Gerrhopilidae',\n",
       " 'https://en.wikipedia.org/wiki/Leptotyphlopidae',\n",
       " 'https://en.wikipedia.org/wiki/Typhlopidae',\n",
       " 'https://en.wikipedia.org/wiki/Xenotyphlopidae',\n",
       " 'https://en.wikipedia.org/wiki/Help:Taxon_identifiers',\n",
       " 'https://en.wikipedia.org/wiki/Wikidata',\n",
       " 'https://www.wikidata.org/wiki/Q184018',\n",
       " 'https://en.wikipedia.org/wiki/Wikispecies',\n",
       " 'https://species.wikimedia.org/wiki/Pythonidae',\n",
       " 'https://en.wikipedia.org/wiki/Australian_Faunal_Directory',\n",
       " 'https://biodiversity.org.au/afd/taxa/Pythonidae',\n",
       " 'https://en.wikipedia.org/wiki/Barcode_of_Life_Data_System',\n",
       " 'http://www.boldsystems.org/index.php/TaxBrowser_TaxonPage?taxid=515102',\n",
       " 'https://en.wikipedia.org/wiki/Catalogue_of_Life',\n",
       " 'https://www.catalogueoflife.org/data/taxon/FH5',\n",
       " 'https://en.wikipedia.org/wiki/Encyclopedia_of_Life',\n",
       " 'https://eol.org/pages/2818930',\n",
       " 'https://en.wikipedia.org/wiki/EPPO_Code',\n",
       " 'https://gd.eppo.int/taxon/1PYTNF',\n",
       " 'https://en.wikipedia.org/wiki/Fossilworks',\n",
       " 'http://www.fossilworks.org/cgi-bin/bridge.pl?a=taxonInfo&taxon_no=99994',\n",
       " 'https://en.wikipedia.org/wiki/Global_Biodiversity_Information_Facility',\n",
       " 'https://www.gbif.org/species/4287591',\n",
       " 'https://en.wikipedia.org/wiki/INaturalist',\n",
       " 'https://www.inaturalist.org/taxa/67532',\n",
       " 'https://en.wikipedia.org/wiki/Interim_Register_of_Marine_and_Nonmarine_Genera',\n",
       " 'https://www.irmng.org/aphia.php?p=taxdetails&id=118691',\n",
       " 'https://en.wikipedia.org/wiki/Integrated_Taxonomic_Information_System',\n",
       " 'https://www.itis.gov/servlet/SingleRpt/SingleRpt?search_topic=TSN&search_value=563893',\n",
       " 'https://en.wikipedia.org/wiki/National_Center_for_Biotechnology_Information',\n",
       " 'https://www.ncbi.nlm.nih.gov/Taxonomy/Browser/wwwtax.cgi?mode=Info&id=34984',\n",
       " 'https://en.wikipedia.org/wiki/Help:Authority_control',\n",
       " 'https://www.wikidata.org/wiki/Q184018#identifiers',\n",
       " 'https://d-nb.info/gnd/4346565-1',\n",
       " 'http://uli.nli.org.il/F/?func=find-b&local_base=NLX10&find_code=UID&request=987007550898505171',\n",
       " 'https://id.loc.gov/authorities/subjects/sh85109382',\n",
       " 'https://kopkatalogs.lv/F?func=direct&local_base=lnc10&doc_number=000303450&P_CON_LNG=ENG',\n",
       " 'https://aleph.nkp.cz/F/?func=find-c&local_base=aut&ccl_term=ica=ph1119027&CON_LNG=ENG',\n",
       " 'https://en.wikipedia.org/w/index.php?title=Pythonidae&oldid=1137079839',\n",
       " 'https://en.wikipedia.org/wiki/Help:Category',\n",
       " 'https://en.wikipedia.org/wiki/Category:Pythonidae',\n",
       " 'https://en.wikipedia.org/wiki/Category:Snake_families',\n",
       " 'https://en.wikipedia.org/wiki/Category:Taxa_named_by_Leopold_Fitzinger',\n",
       " 'https://en.wikipedia.org/wiki/Category:Snakes',\n",
       " 'https://en.wikipedia.org/wiki/Category:Articles_with_short_description',\n",
       " 'https://en.wikipedia.org/wiki/Category:Short_description_matches_Wikidata',\n",
       " 'https://en.wikipedia.org/wiki/Category:Wikipedia_introduction_cleanup_from_May_2020',\n",
       " 'https://en.wikipedia.org/wiki/Category:All_pages_needing_cleanup',\n",
       " 'https://en.wikipedia.org/wiki/Category:Articles_covered_by_WikiProject_Wikify_from_May_2020',\n",
       " 'https://en.wikipedia.org/wiki/Category:All_articles_covered_by_WikiProject_Wikify',\n",
       " 'https://en.wikipedia.org/wiki/Category:Articles_with_%27species%27_microformats',\n",
       " 'https://en.wikipedia.org/wiki/Category:Articles_needing_additional_references_from_November_2022',\n",
       " 'https://en.wikipedia.org/wiki/Category:All_articles_needing_additional_references',\n",
       " 'https://en.wikipedia.org/wiki/Category:Articles_to_be_expanded_from_November_2022',\n",
       " 'https://en.wikipedia.org/wiki/Category:All_articles_to_be_expanded',\n",
       " 'https://en.wikipedia.org/wiki/Category:Articles_using_small_message_boxes',\n",
       " 'https://en.wikipedia.org/wiki/Category:All_articles_with_unsourced_statements',\n",
       " 'https://en.wikipedia.org/wiki/Category:Articles_with_unsourced_statements_from_October_2022',\n",
       " 'https://en.wikipedia.org/wiki/Category:Commons_link_from_Wikidata',\n",
       " 'https://en.wikipedia.org/wiki/Category:Articles_with_GND_identifiers',\n",
       " 'https://en.wikipedia.org/wiki/Category:Articles_with_J9U_identifiers',\n",
       " 'https://en.wikipedia.org/wiki/Category:Articles_with_LCCN_identifiers',\n",
       " 'https://en.wikipedia.org/wiki/Category:Articles_with_LNB_identifiers',\n",
       " 'https://en.wikipedia.org/wiki/Category:Articles_with_NKC_identifiers',\n",
       " 'https://en.wikipedia.org/wiki/Wikipedia:Text_of_the_Creative_Commons_Attribution-ShareAlike_3.0_Unported_License',\n",
       " 'https://creativecommons.org/licenses/by-sa/3.0/',\n",
       " 'https://foundation.wikimedia.org/wiki/Terms_of_Use',\n",
       " 'https://foundation.wikimedia.org/wiki/Privacy_policy',\n",
       " 'https://www.wikimediafoundation.org/',\n",
       " 'https://foundation.wikimedia.org/wiki/Privacy_policy',\n",
       " 'https://en.wikipedia.org/wiki/Wikipedia:About',\n",
       " 'https://en.wikipedia.org/wiki/Wikipedia:General_disclaimer',\n",
       " 'https://en.wikipedia.org/wiki/Wikipedia:Contact_us',\n",
       " 'https://en.m.wikipedia.org/w/index.php?title=Pythonidae&mobileaction=toggle_view_mobile',\n",
       " 'https://developer.wikimedia.org/',\n",
       " 'https://stats.wikimedia.org/#/en.wikipedia.org',\n",
       " 'https://foundation.wikimedia.org/wiki/Cookie_statement',\n",
       " 'https://wikimediafoundation.org/',\n",
       " 'https://www.mediawiki.org/']"
      ]
     },
     "execution_count": 26,
     "metadata": {},
     "output_type": "execute_result"
    }
   ],
   "source": [
    "links"
   ]
  },
  {
   "cell_type": "markdown",
   "metadata": {},
   "source": [
    "#### Number of Titles that have changed in the United States Code since its last release point "
   ]
  },
  {
   "cell_type": "code",
   "execution_count": 27,
   "metadata": {},
   "outputs": [],
   "source": [
    "# This is the url you will scrape in this exercise\n",
    "url = 'http://uscode.house.gov/download/download.shtml'\n",
    "driver=webdriver.Chrome(PATH)\n",
    "driver.get(url)"
   ]
  },
  {
   "cell_type": "code",
   "execution_count": 28,
   "metadata": {},
   "outputs": [],
   "source": [
    "#your code\n",
    "elementos = driver.find_elements(By.CLASS_NAME, 'usctitlechanged')"
   ]
  },
  {
   "cell_type": "code",
   "execution_count": 29,
   "metadata": {},
   "outputs": [
    {
     "data": {
      "text/plain": [
       "14"
      ]
     },
     "execution_count": 29,
     "metadata": {},
     "output_type": "execute_result"
    }
   ],
   "source": [
    "len(elementos)"
   ]
  },
  {
   "cell_type": "markdown",
   "metadata": {},
   "source": [
    "#### A Python list with the top ten FBI's Most Wanted names "
   ]
  },
  {
   "cell_type": "code",
   "execution_count": 33,
   "metadata": {},
   "outputs": [],
   "source": [
    "# This is the url you will scrape in this exercise\n",
    "url = 'https://www.fbi.gov/wanted/topten'\n",
    "driver=webdriver.Chrome(PATH)\n",
    "driver.get(url)"
   ]
  },
  {
   "cell_type": "code",
   "execution_count": 34,
   "metadata": {},
   "outputs": [],
   "source": [
    "#your code \n",
    "elementos = driver.find_elements(By.CLASS_NAME, 'title')"
   ]
  },
  {
   "cell_type": "code",
   "execution_count": 35,
   "metadata": {},
   "outputs": [],
   "source": [
    "names = []\n",
    "\n",
    "for i in elementos[1:]:\n",
    "    names.append(i.text)\n"
   ]
  },
  {
   "cell_type": "code",
   "execution_count": 36,
   "metadata": {},
   "outputs": [
    {
     "data": {
      "text/plain": [
       "['YULAN ADONAY ARCHAGA CARIAS',\n",
       " 'RUJA IGNATOVA',\n",
       " 'ARNOLDO JIMENEZ',\n",
       " 'OMAR ALEXANDER CARDENAS',\n",
       " 'ALEXIS FLORES',\n",
       " 'BHADRESHKUMAR CHETANBHAI PATEL',\n",
       " 'ALEJANDRO ROSALES CASTILLO',\n",
       " 'JOSE RODOLFO VILLARREAL-HERNANDEZ',\n",
       " 'MICHAEL JAMES PRATT',\n",
       " 'RAFAEL CARO-QUINTERO']"
      ]
     },
     "execution_count": 36,
     "metadata": {},
     "output_type": "execute_result"
    }
   ],
   "source": [
    "names"
   ]
  },
  {
   "cell_type": "markdown",
   "metadata": {},
   "source": [
    "####  20 latest earthquakes info (date, time, latitude, longitude and region name) by the EMSC as a pandas dataframe"
   ]
  },
  {
   "cell_type": "code",
   "execution_count": 40,
   "metadata": {},
   "outputs": [],
   "source": [
    "# This is the url you will scrape in this exercise\n",
    "url = 'https://www.emsc-csem.org/Earthquake/'\n",
    "driver=webdriver.Chrome(PATH)\n",
    "driver.get(url)"
   ]
  },
  {
   "cell_type": "code",
   "execution_count": 41,
   "metadata": {},
   "outputs": [
    {
     "data": {
      "text/plain": [
       "'Citizen\\nResponse'"
      ]
     },
     "execution_count": 41,
     "metadata": {},
     "output_type": "execute_result"
    }
   ],
   "source": [
    "#your code\n",
    "elementos = driver.find_elements(By.TAG_NAME, 'th')\n",
    "\n",
    "elementos[0].text"
   ]
  },
  {
   "cell_type": "code",
   "execution_count": 42,
   "metadata": {},
   "outputs": [],
   "source": [
    "col_names = []\n",
    "\n",
    "for i in elementos[1:-1]:\n",
    "    col_names.append(i.text.replace('\\n', ' '))"
   ]
  },
  {
   "cell_type": "code",
   "execution_count": 43,
   "metadata": {},
   "outputs": [
    {
     "name": "stdout",
     "output_type": "stream",
     "text": [
      "['Date & Time UTC', 'Latitude degrees', 'Longitude degrees', 'Depth km', 'Mag [+]', 'Region name [+]']\n"
     ]
    }
   ],
   "source": [
    "print(col_names)"
   ]
  },
  {
   "cell_type": "code",
   "execution_count": 89,
   "metadata": {},
   "outputs": [],
   "source": [
    "date = driver.find_elements(By.CLASS_NAME, 'tabev6')"
   ]
  },
  {
   "cell_type": "code",
   "execution_count": 90,
   "metadata": {},
   "outputs": [],
   "source": [
    "dates = []\n",
    "\n",
    "for i in date:\n",
    "    dates.append(i.text.replace('\\n', ' '))"
   ]
  },
  {
   "cell_type": "code",
   "execution_count": 91,
   "metadata": {},
   "outputs": [
    {
     "data": {
      "text/plain": [
       "50"
      ]
     },
     "execution_count": 91,
     "metadata": {},
     "output_type": "execute_result"
    }
   ],
   "source": [
    "len(dates)"
   ]
  },
  {
   "cell_type": "code",
   "execution_count": 92,
   "metadata": {},
   "outputs": [],
   "source": [
    "latitude = driver.find_elements(By.CLASS_NAME, 'tabev1')"
   ]
  },
  {
   "cell_type": "code",
   "execution_count": 93,
   "metadata": {},
   "outputs": [
    {
     "data": {
      "text/plain": [
       "100"
      ]
     },
     "execution_count": 93,
     "metadata": {},
     "output_type": "execute_result"
    }
   ],
   "source": [
    "latitudes = []\n",
    "\n",
    "for i in latitude:\n",
    "    latitudes.append(i.text)\n",
    "    \n",
    "len(latitudes)"
   ]
  },
  {
   "cell_type": "code",
   "execution_count": 108,
   "metadata": {},
   "outputs": [
    {
     "data": {
      "text/plain": [
       "50"
      ]
     },
     "execution_count": 108,
     "metadata": {},
     "output_type": "execute_result"
    }
   ],
   "source": [
    "latitudes[0: :2]\n",
    "\n",
    "len(latitudes[0: :2])\n",
    "\n",
    "lat = latitudes[0: :2]\n",
    "len(lat)"
   ]
  },
  {
   "cell_type": "code",
   "execution_count": 95,
   "metadata": {},
   "outputs": [
    {
     "data": {
      "text/plain": [
       "50"
      ]
     },
     "execution_count": 95,
     "metadata": {},
     "output_type": "execute_result"
    }
   ],
   "source": [
    "latitudes[1: :2]\n",
    "\n",
    "len(latitudes[1: :2])\n",
    "\n",
    "long = latitudes[1: :2]\n",
    "\n",
    "len(long)"
   ]
  },
  {
   "cell_type": "code",
   "execution_count": 96,
   "metadata": {},
   "outputs": [],
   "source": [
    "depth = driver.find_elements(By.CLASS_NAME, 'tabev3')"
   ]
  },
  {
   "cell_type": "code",
   "execution_count": 97,
   "metadata": {},
   "outputs": [],
   "source": [
    "depths = []\n",
    "\n",
    "for i in depth:\n",
    "    depths.append(i.text)"
   ]
  },
  {
   "cell_type": "code",
   "execution_count": 98,
   "metadata": {},
   "outputs": [
    {
     "data": {
      "text/plain": [
       "50"
      ]
     },
     "execution_count": 98,
     "metadata": {},
     "output_type": "execute_result"
    }
   ],
   "source": [
    "len(depths)"
   ]
  },
  {
   "cell_type": "code",
   "execution_count": 99,
   "metadata": {},
   "outputs": [],
   "source": [
    "magnitud = driver.find_elements(By.CLASS_NAME, 'tabev2')"
   ]
  },
  {
   "cell_type": "code",
   "execution_count": 100,
   "metadata": {},
   "outputs": [],
   "source": [
    "magnitudes = []\n",
    "\n",
    "for i in magnitud:\n",
    "    magnitudes.append(i.text.replace(' ', ''))"
   ]
  },
  {
   "cell_type": "code",
   "execution_count": 101,
   "metadata": {},
   "outputs": [
    {
     "data": {
      "text/plain": [
       "50"
      ]
     },
     "execution_count": 101,
     "metadata": {},
     "output_type": "execute_result"
    }
   ],
   "source": [
    "magnitudes_ok = magnitudes[2: :3]\n",
    "\n",
    "len(magnitudes_ok)"
   ]
  },
  {
   "cell_type": "code",
   "execution_count": 102,
   "metadata": {},
   "outputs": [],
   "source": [
    "region = driver.find_elements(By.CLASS_NAME, 'tb_region')"
   ]
  },
  {
   "cell_type": "code",
   "execution_count": 103,
   "metadata": {},
   "outputs": [],
   "source": [
    "regiones = []\n",
    "\n",
    "for i in region:\n",
    "    regiones.append(i.text)"
   ]
  },
  {
   "cell_type": "code",
   "execution_count": 104,
   "metadata": {},
   "outputs": [
    {
     "data": {
      "text/plain": [
       "50"
      ]
     },
     "execution_count": 104,
     "metadata": {},
     "output_type": "execute_result"
    }
   ],
   "source": [
    "len(regiones)"
   ]
  },
  {
   "cell_type": "code",
   "execution_count": 105,
   "metadata": {},
   "outputs": [],
   "source": [
    "df = pd.DataFrame(columns=col_names)"
   ]
  },
  {
   "cell_type": "code",
   "execution_count": 106,
   "metadata": {},
   "outputs": [],
   "source": [
    "df[col_names[0]] = dates\n",
    "\n",
    "df[col_names[1]] = lat\n",
    "\n",
    "df[col_names[2]] = long\n",
    "\n",
    "df[col_names[3]] = depths\n",
    "\n",
    "df[col_names[4]] = magnitudes_ok\n",
    "\n",
    "df[col_names[5]] = regiones"
   ]
  },
  {
   "cell_type": "code",
   "execution_count": 109,
   "metadata": {},
   "outputs": [
    {
     "data": {
      "text/html": [
       "<div>\n",
       "<style scoped>\n",
       "    .dataframe tbody tr th:only-of-type {\n",
       "        vertical-align: middle;\n",
       "    }\n",
       "\n",
       "    .dataframe tbody tr th {\n",
       "        vertical-align: top;\n",
       "    }\n",
       "\n",
       "    .dataframe thead th {\n",
       "        text-align: right;\n",
       "    }\n",
       "</style>\n",
       "<table border=\"1\" class=\"dataframe\">\n",
       "  <thead>\n",
       "    <tr style=\"text-align: right;\">\n",
       "      <th></th>\n",
       "      <th>Date &amp; Time UTC</th>\n",
       "      <th>Latitude degrees</th>\n",
       "      <th>Longitude degrees</th>\n",
       "      <th>Depth km</th>\n",
       "      <th>Mag [+]</th>\n",
       "      <th>Region name [+]</th>\n",
       "    </tr>\n",
       "  </thead>\n",
       "  <tbody>\n",
       "    <tr>\n",
       "      <th>0</th>\n",
       "      <td>2023-02-08   18:40:24.2 15min ago</td>\n",
       "      <td>38.07</td>\n",
       "      <td>37.29</td>\n",
       "      <td>7</td>\n",
       "      <td>3.6</td>\n",
       "      <td>CENTRAL TURKEY</td>\n",
       "    </tr>\n",
       "    <tr>\n",
       "      <th>1</th>\n",
       "      <td>2023-02-08   18:36:45.0 18min ago</td>\n",
       "      <td>24.03</td>\n",
       "      <td>68.88</td>\n",
       "      <td>101</td>\n",
       "      <td>2.7</td>\n",
       "      <td>ANTOFAGASTA, CHILE</td>\n",
       "    </tr>\n",
       "    <tr>\n",
       "      <th>2</th>\n",
       "      <td>2023-02-08   18:32:44.7 22min ago</td>\n",
       "      <td>39.58</td>\n",
       "      <td>118.47</td>\n",
       "      <td>8</td>\n",
       "      <td>2.2</td>\n",
       "      <td>NEVADA</td>\n",
       "    </tr>\n",
       "    <tr>\n",
       "      <th>3</th>\n",
       "      <td>2023-02-08   18:28:47.1 26min ago</td>\n",
       "      <td>38.09</td>\n",
       "      <td>37.68</td>\n",
       "      <td>30</td>\n",
       "      <td>2.5</td>\n",
       "      <td>CENTRAL TURKEY</td>\n",
       "    </tr>\n",
       "    <tr>\n",
       "      <th>4</th>\n",
       "      <td>2023-02-08   18:26:12.5 29min ago</td>\n",
       "      <td>37.32</td>\n",
       "      <td>37.07</td>\n",
       "      <td>5</td>\n",
       "      <td>3.0</td>\n",
       "      <td>CENTRAL TURKEY</td>\n",
       "    </tr>\n",
       "  </tbody>\n",
       "</table>\n",
       "</div>"
      ],
      "text/plain": [
       "                     Date & Time UTC Latitude degrees Longitude degrees  \\\n",
       "0  2023-02-08   18:40:24.2 15min ago           38.07             37.29    \n",
       "1  2023-02-08   18:36:45.0 18min ago           24.03             68.88    \n",
       "2  2023-02-08   18:32:44.7 22min ago           39.58            118.47    \n",
       "3  2023-02-08   18:28:47.1 26min ago           38.09             37.68    \n",
       "4  2023-02-08   18:26:12.5 29min ago           37.32             37.07    \n",
       "\n",
       "  Depth km Mag [+]      Region name [+]  \n",
       "0        7     3.6       CENTRAL TURKEY  \n",
       "1      101     2.7   ANTOFAGASTA, CHILE  \n",
       "2        8     2.2               NEVADA  \n",
       "3       30     2.5       CENTRAL TURKEY  \n",
       "4        5     3.0       CENTRAL TURKEY  "
      ]
     },
     "execution_count": 109,
     "metadata": {},
     "output_type": "execute_result"
    }
   ],
   "source": [
    "df.head()"
   ]
  },
  {
   "cell_type": "markdown",
   "metadata": {},
   "source": [
    "#### Count number of tweets by a given Twitter account."
   ]
  },
  {
   "cell_type": "markdown",
   "metadata": {},
   "source": [
    "You will need to include a ***try/except block*** for account names not found. \n",
    "<br>***Hint:*** the program should count the number of tweets for any provided account"
   ]
  },
  {
   "cell_type": "code",
   "execution_count": 150,
   "metadata": {},
   "outputs": [],
   "source": [
    "# This is the url you will scrape in this exercise \n",
    "# You will need to add the account credentials to this url\n",
    "url = 'https://twitter.com/'\n",
    "url_2 = 'https://twitter.com/LaResistencia?ref_src=twsrc%5Egoogle%7Ctwcamp%5Eserp%7Ctwgr%5Eauthor'\n",
    "driver=webdriver.Chrome(PATH)\n",
    "driver.get(url_2)"
   ]
  },
  {
   "cell_type": "code",
   "execution_count": 153,
   "metadata": {},
   "outputs": [],
   "source": [
    "#your code\n",
    "tuit = driver.find_elements(By.CLASS_NAME, 'css-1dbjc4n')"
   ]
  },
  {
   "cell_type": "code",
   "execution_count": 154,
   "metadata": {},
   "outputs": [],
   "source": [
    "tuits = []\n",
    "\n",
    "for i in tuit:\n",
    "    tuits.append(i)"
   ]
  },
  {
   "cell_type": "code",
   "execution_count": 155,
   "metadata": {},
   "outputs": [
    {
     "data": {
      "text/plain": [
       "763"
      ]
     },
     "execution_count": 155,
     "metadata": {},
     "output_type": "execute_result"
    }
   ],
   "source": [
    "len(tuits)"
   ]
  },
  {
   "cell_type": "markdown",
   "metadata": {},
   "source": [
    "#### Number of followers of a given twitter account"
   ]
  },
  {
   "cell_type": "markdown",
   "metadata": {},
   "source": [
    "You will need to include a ***try/except block*** in case account/s name not found. \n",
    "<br>***Hint:*** the program should count the followers for any provided account"
   ]
  },
  {
   "cell_type": "code",
   "execution_count": null,
   "metadata": {},
   "outputs": [],
   "source": [
    "# This is the url you will scrape in this exercise \n",
    "# You will need to add the account credentials to this url\n",
    "url = 'https://twitter.com/'\n",
    "url_2 = 'https://twitter.com/LaResistencia?ref_src=twsrc%5Egoogle%7Ctwcamp%5Eserp%7Ctwgr%5Eauthor'\n",
    "driver=webdriver.Chrome(PATH)\n",
    "driver.get(url_2)"
   ]
  },
  {
   "cell_type": "code",
   "execution_count": 160,
   "metadata": {},
   "outputs": [],
   "source": [
    "follower = driver.find_elements(By.CLASS_NAME, 'css-1dbjc4n.r-13awgt0.r-18u37iz.r-1w6e6rj')"
   ]
  },
  {
   "cell_type": "code",
   "execution_count": 164,
   "metadata": {},
   "outputs": [
    {
     "data": {
      "text/plain": [
       "'1 M Seguidores'"
      ]
     },
     "execution_count": 164,
     "metadata": {},
     "output_type": "execute_result"
    }
   ],
   "source": [
    "follower[0].text.split(\"\\n\")[1]"
   ]
  },
  {
   "cell_type": "markdown",
   "metadata": {},
   "source": [
    "#### List all language names and number of related articles in the order they appear in wikipedia.org"
   ]
  },
  {
   "cell_type": "code",
   "execution_count": 110,
   "metadata": {},
   "outputs": [],
   "source": [
    "# This is the url you will scrape in this exercise\n",
    "url = 'https://www.wikipedia.org/'\n",
    "driver=webdriver.Chrome(PATH)\n",
    "driver.get(url)"
   ]
  },
  {
   "cell_type": "code",
   "execution_count": 112,
   "metadata": {},
   "outputs": [],
   "source": [
    "#your code\n",
    "lang = driver.find_elements(By.CLASS_NAME, 'link-box')\n",
    "\n",
    "#html_name = soup.find_all('a', class_= 'link-box')\n",
    "#html_name[0].text\n",
    "#html_name[0].text.strip().replace('\\n', ' ').replace('\\xa0', ' ')"
   ]
  },
  {
   "cell_type": "code",
   "execution_count": 113,
   "metadata": {},
   "outputs": [
    {
     "data": {
      "text/plain": [
       "['Español 1 833 000+ artículos',\n",
       " 'English 6 606 000+ articles',\n",
       " 'Русский 1 887 000+ статей',\n",
       " '日本語 1 359 000+ 記事',\n",
       " 'Deutsch 2 764 000+ Artikel',\n",
       " 'Français 2 488 000+ articles',\n",
       " 'Italiano 1 792 000+ voci',\n",
       " '中文 1 331 000+ 条目 / 條目',\n",
       " 'فارسی 947 000+ مقاله',\n",
       " 'Polski 1 552 000+ haseł']"
      ]
     },
     "execution_count": 113,
     "metadata": {},
     "output_type": "execute_result"
    }
   ],
   "source": [
    "lang_art = []\n",
    "\n",
    "for i in range(len(lang)):\n",
    "    lang_art.append(lang[i].text.strip().replace('\\n', ' ').replace('\\xa0', ' '))\n",
    "    \n",
    "lang_art"
   ]
  },
  {
   "cell_type": "markdown",
   "metadata": {},
   "source": [
    "#### A list with the different kind of datasets available in data.gov.uk "
   ]
  },
  {
   "cell_type": "code",
   "execution_count": 114,
   "metadata": {},
   "outputs": [],
   "source": [
    "# This is the url you will scrape in this exercise\n",
    "url = 'https://data.gov.uk/'\n",
    "driver=webdriver.Chrome(PATH)\n",
    "driver.get(url)"
   ]
  },
  {
   "cell_type": "code",
   "execution_count": 115,
   "metadata": {},
   "outputs": [],
   "source": [
    "#your code \n",
    "dataset = driver.find_elements(By.CLASS_NAME, 'govuk-link')"
   ]
  },
  {
   "cell_type": "code",
   "execution_count": 120,
   "metadata": {},
   "outputs": [
    {
     "data": {
      "text/plain": [
       "'Business and economy'"
      ]
     },
     "execution_count": 120,
     "metadata": {},
     "output_type": "execute_result"
    }
   ],
   "source": [
    "dataset[4].text"
   ]
  },
  {
   "cell_type": "code",
   "execution_count": 121,
   "metadata": {},
   "outputs": [
    {
     "data": {
      "text/plain": [
       "['Business and economy',\n",
       " 'Crime and justice',\n",
       " 'Defence',\n",
       " 'Education',\n",
       " 'Environment',\n",
       " 'Government',\n",
       " 'Government spending',\n",
       " 'Health',\n",
       " 'Mapping',\n",
       " 'Society',\n",
       " 'Towns and cities',\n",
       " 'Transport',\n",
       " 'Digital service performance',\n",
       " 'Government reference data']"
      ]
     },
     "execution_count": 121,
     "metadata": {},
     "output_type": "execute_result"
    }
   ],
   "source": [
    "datasets = []\n",
    "\n",
    "for i in range(4, len(dataset)):\n",
    "    datasets.append(dataset[i].text)\n",
    "    \n",
    "datasets"
   ]
  },
  {
   "cell_type": "markdown",
   "metadata": {},
   "source": [
    "#### Top 10 languages by number of native speakers stored in a Pandas Dataframe"
   ]
  },
  {
   "cell_type": "code",
   "execution_count": 122,
   "metadata": {},
   "outputs": [],
   "source": [
    "# This is the url you will scrape in this exercise\n",
    "url = 'https://en.wikipedia.org/wiki/List_of_languages_by_number_of_native_speakers'\n",
    "driver=webdriver.Chrome(PATH)\n",
    "driver.get(url)"
   ]
  },
  {
   "cell_type": "code",
   "execution_count": 123,
   "metadata": {},
   "outputs": [],
   "source": [
    "#your code\n",
    "top_languajes = driver.find_elements(By.CLASS_NAME, 'mw-redirect')"
   ]
  },
  {
   "cell_type": "code",
   "execution_count": 124,
   "metadata": {},
   "outputs": [
    {
     "data": {
      "text/plain": [
       "['Mandarin Chinese',\n",
       " 'Spanish',\n",
       " 'English',\n",
       " 'Hindi',\n",
       " 'Bengali',\n",
       " 'Portuguese',\n",
       " 'Russian',\n",
       " 'Japanese',\n",
       " 'Yue Chinese',\n",
       " 'Vietnamese']"
      ]
     },
     "execution_count": 124,
     "metadata": {},
     "output_type": "execute_result"
    }
   ],
   "source": [
    "ten_languajes = []\n",
    "\n",
    "for i in range(7, 17):\n",
    "    ten_languajes.append(top_languajes[i].text)\n",
    "    \n",
    "ten_languajes"
   ]
  },
  {
   "cell_type": "code",
   "execution_count": 132,
   "metadata": {},
   "outputs": [],
   "source": [
    "native = driver.find_elements(By.TAG_NAME, 'td')"
   ]
  },
  {
   "cell_type": "code",
   "execution_count": 137,
   "metadata": {},
   "outputs": [],
   "source": [
    "nnl = []\n",
    "\n",
    "for i in range(len(native)):\n",
    "    nnl.append(native[i].text)\n",
    "    \n",
    "nnl[1:41:4]\n",
    "\n",
    "numb_native_lang = nnl[1:41:4]"
   ]
  },
  {
   "cell_type": "code",
   "execution_count": 138,
   "metadata": {},
   "outputs": [],
   "source": [
    "cols = driver.find_elements(By.CLASS_NAME, 'headerSort')"
   ]
  },
  {
   "cell_type": "code",
   "execution_count": 139,
   "metadata": {},
   "outputs": [],
   "source": [
    "col_names = []\n",
    "\n",
    "for i in cols[0:2]:\n",
    "    col_names.append(i.text)"
   ]
  },
  {
   "cell_type": "code",
   "execution_count": 140,
   "metadata": {},
   "outputs": [
    {
     "data": {
      "text/plain": [
       "['Language', 'Native speakers\\n(millions)']"
      ]
     },
     "execution_count": 140,
     "metadata": {},
     "output_type": "execute_result"
    }
   ],
   "source": [
    "col_names"
   ]
  },
  {
   "cell_type": "code",
   "execution_count": 145,
   "metadata": {},
   "outputs": [
    {
     "data": {
      "text/html": [
       "<div>\n",
       "<style scoped>\n",
       "    .dataframe tbody tr th:only-of-type {\n",
       "        vertical-align: middle;\n",
       "    }\n",
       "\n",
       "    .dataframe tbody tr th {\n",
       "        vertical-align: top;\n",
       "    }\n",
       "\n",
       "    .dataframe thead th {\n",
       "        text-align: right;\n",
       "    }\n",
       "</style>\n",
       "<table border=\"1\" class=\"dataframe\">\n",
       "  <thead>\n",
       "    <tr style=\"text-align: right;\">\n",
       "      <th></th>\n",
       "      <th>Language</th>\n",
       "      <th>Native speakers\\n(millions)</th>\n",
       "    </tr>\n",
       "  </thead>\n",
       "  <tbody>\n",
       "  </tbody>\n",
       "</table>\n",
       "</div>"
      ],
      "text/plain": [
       "Empty DataFrame\n",
       "Columns: [Language, Native speakers\n",
       "(millions)]\n",
       "Index: []"
      ]
     },
     "execution_count": 145,
     "metadata": {},
     "output_type": "execute_result"
    }
   ],
   "source": [
    "df = pd.DataFrame(columns=col_names)\n",
    "\n",
    "df"
   ]
  },
  {
   "cell_type": "code",
   "execution_count": 146,
   "metadata": {},
   "outputs": [],
   "source": [
    "df[col_names[0]] = ten_languajes\n",
    "\n",
    "df[col_names[1]] = numb_native_lang"
   ]
  },
  {
   "cell_type": "code",
   "execution_count": 147,
   "metadata": {},
   "outputs": [
    {
     "data": {
      "text/html": [
       "<div>\n",
       "<style scoped>\n",
       "    .dataframe tbody tr th:only-of-type {\n",
       "        vertical-align: middle;\n",
       "    }\n",
       "\n",
       "    .dataframe tbody tr th {\n",
       "        vertical-align: top;\n",
       "    }\n",
       "\n",
       "    .dataframe thead th {\n",
       "        text-align: right;\n",
       "    }\n",
       "</style>\n",
       "<table border=\"1\" class=\"dataframe\">\n",
       "  <thead>\n",
       "    <tr style=\"text-align: right;\">\n",
       "      <th></th>\n",
       "      <th>Language</th>\n",
       "      <th>Native speakers\\n(millions)</th>\n",
       "    </tr>\n",
       "  </thead>\n",
       "  <tbody>\n",
       "    <tr>\n",
       "      <th>0</th>\n",
       "      <td>Mandarin Chinese</td>\n",
       "      <td>920</td>\n",
       "    </tr>\n",
       "    <tr>\n",
       "      <th>1</th>\n",
       "      <td>Spanish</td>\n",
       "      <td>475</td>\n",
       "    </tr>\n",
       "    <tr>\n",
       "      <th>2</th>\n",
       "      <td>English</td>\n",
       "      <td>373</td>\n",
       "    </tr>\n",
       "    <tr>\n",
       "      <th>3</th>\n",
       "      <td>Hindi</td>\n",
       "      <td>344</td>\n",
       "    </tr>\n",
       "    <tr>\n",
       "      <th>4</th>\n",
       "      <td>Bengali</td>\n",
       "      <td>234</td>\n",
       "    </tr>\n",
       "    <tr>\n",
       "      <th>5</th>\n",
       "      <td>Portuguese</td>\n",
       "      <td>232</td>\n",
       "    </tr>\n",
       "    <tr>\n",
       "      <th>6</th>\n",
       "      <td>Russian</td>\n",
       "      <td>154</td>\n",
       "    </tr>\n",
       "    <tr>\n",
       "      <th>7</th>\n",
       "      <td>Japanese</td>\n",
       "      <td>125</td>\n",
       "    </tr>\n",
       "    <tr>\n",
       "      <th>8</th>\n",
       "      <td>Yue Chinese</td>\n",
       "      <td>85.2</td>\n",
       "    </tr>\n",
       "    <tr>\n",
       "      <th>9</th>\n",
       "      <td>Vietnamese</td>\n",
       "      <td>84.6</td>\n",
       "    </tr>\n",
       "  </tbody>\n",
       "</table>\n",
       "</div>"
      ],
      "text/plain": [
       "           Language Native speakers\\n(millions)\n",
       "0  Mandarin Chinese                         920\n",
       "1           Spanish                         475\n",
       "2           English                         373\n",
       "3             Hindi                         344\n",
       "4           Bengali                         234\n",
       "5        Portuguese                         232\n",
       "6           Russian                         154\n",
       "7          Japanese                         125\n",
       "8       Yue Chinese                        85.2\n",
       "9        Vietnamese                        84.6"
      ]
     },
     "execution_count": 147,
     "metadata": {},
     "output_type": "execute_result"
    }
   ],
   "source": [
    "df"
   ]
  },
  {
   "cell_type": "markdown",
   "metadata": {},
   "source": [
    "### BONUS QUESTIONS"
   ]
  },
  {
   "cell_type": "markdown",
   "metadata": {},
   "source": [
    "#### Scrape a certain number of tweets of a given Twitter account."
   ]
  },
  {
   "cell_type": "code",
   "execution_count": null,
   "metadata": {},
   "outputs": [],
   "source": [
    "# This is the url you will scrape in this exercise \n",
    "# You will need to add the account credentials to this url\n",
    "url = 'https://twitter.com/'"
   ]
  },
  {
   "cell_type": "code",
   "execution_count": null,
   "metadata": {},
   "outputs": [],
   "source": [
    "# your code"
   ]
  },
  {
   "cell_type": "markdown",
   "metadata": {},
   "source": [
    "#### IMDB's Top 250 data (movie name, Initial release, director name and stars) as a pandas dataframe"
   ]
  },
  {
   "cell_type": "code",
   "execution_count": null,
   "metadata": {},
   "outputs": [],
   "source": [
    "# This is the url you will scrape in this exercise \n",
    "url = 'https://www.imdb.com/chart/top'"
   ]
  },
  {
   "cell_type": "code",
   "execution_count": null,
   "metadata": {},
   "outputs": [],
   "source": [
    "# your code"
   ]
  },
  {
   "cell_type": "markdown",
   "metadata": {},
   "source": [
    "#### Movie name, year and a brief summary of the top 10 random movies (IMDB) as a pandas dataframe."
   ]
  },
  {
   "cell_type": "code",
   "execution_count": null,
   "metadata": {},
   "outputs": [],
   "source": [
    "#This is the url you will scrape in this exercise\n",
    "url = 'http://www.imdb.com/chart/top'"
   ]
  },
  {
   "cell_type": "code",
   "execution_count": null,
   "metadata": {},
   "outputs": [],
   "source": [
    "#your code"
   ]
  },
  {
   "cell_type": "markdown",
   "metadata": {},
   "source": [
    "#### Find the live weather report (temperature, wind speed, description and weather) of a given city."
   ]
  },
  {
   "cell_type": "code",
   "execution_count": null,
   "metadata": {},
   "outputs": [],
   "source": [
    "#https://openweathermap.org/current\n",
    "city = city=input('Enter the city:')\n",
    "url = 'http://api.openweathermap.org/data/2.5/weather?'+'q='+city+'&APPID=b35975e18dc93725acb092f7272cc6b8&units=metric'"
   ]
  },
  {
   "cell_type": "code",
   "execution_count": null,
   "metadata": {},
   "outputs": [],
   "source": [
    "# your code"
   ]
  },
  {
   "cell_type": "markdown",
   "metadata": {},
   "source": [
    "#### Book name,price and stock availability as a pandas dataframe."
   ]
  },
  {
   "cell_type": "code",
   "execution_count": null,
   "metadata": {},
   "outputs": [],
   "source": [
    "# This is the url you will scrape in this exercise. \n",
    "# It is a fictional bookstore created to be scraped. \n",
    "url = 'http://books.toscrape.com/'"
   ]
  },
  {
   "cell_type": "code",
   "execution_count": null,
   "metadata": {},
   "outputs": [],
   "source": [
    "#your code"
   ]
  }
 ],
 "metadata": {
  "kernelspec": {
   "display_name": "Python 3 (ipykernel)",
   "language": "python",
   "name": "python3"
  },
  "language_info": {
   "codemirror_mode": {
    "name": "ipython",
    "version": 3
   },
   "file_extension": ".py",
   "mimetype": "text/x-python",
   "name": "python",
   "nbconvert_exporter": "python",
   "pygments_lexer": "ipython3",
   "version": "3.9.13"
  }
 },
 "nbformat": 4,
 "nbformat_minor": 2
}
